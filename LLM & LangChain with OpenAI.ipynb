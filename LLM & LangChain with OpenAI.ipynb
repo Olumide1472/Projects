{
  "cells": [
    {
      "source": [
        "# **Large Language Models with GPT & LangChain**"
      ],
      "metadata": {
        "id": "8c8fde4c-9222-4265-b72b-8d7693520250"
      },
      "id": "8c8fde4c-9222-4265-b72b-8d7693520250",
      "cell_type": "markdown"
    },
    {
      "source": [
        "[ChatGPT](https://chat.openai.com/) is wildly popular, with over a billion visits per month. Although this web interface is great for many non-technical use cases, for programming and automation tasks, it is better to access GPT (the AI that powers ChatGPT) via the OpenAI API.\n",
        "\n",
        "As well as GPT, you'll also make use of LangChain, a programming framework for working with generative AI.\n",
        "\n",
        "You'll cover:\n",
        "\n",
        "- Getting set up with an OpenAI developer account and integration with Workspace.\n",
        "- Calling the chat functionality in the OpenAI API, with and without langchain.\n",
        "- Simple prompt engineering.\n",
        "- Holding a conversation with GPT.\n",
        "- Ideas for incorporating GPT into a data analysis or data science workflow.\n",
        "\n",
        "You'll be using GPT to explore [a dataset](https://catalog.data.gov/dataset/electric-vehicle-population-data) about electric cars in Washington state, USA."
      ],
      "metadata": {
        "id": "3e302e1c-4c18-4c44-87fd-ba935c3a0853"
      },
      "id": "3e302e1c-4c18-4c44-87fd-ba935c3a0853",
      "cell_type": "markdown"
    },
    {
      "source": [
        "# **Before You Begin**"
      ],
      "metadata": {
        "id": "8231d2c6-275e-4399-b7cd-84e112831d08"
      },
      "id": "8231d2c6-275e-4399-b7cd-84e112831d08",
      "cell_type": "markdown"
    },
    {
      "cell_type": "markdown",
      "source": [
        "**Create a developer account with OpenAI**\n",
        "\n",
        "1. Go to the [API signup page](https://platform.openai.com/signup).\n",
        "\n",
        "2. Create your account (you'll need to provide your email address and your phone number).\n",
        "\n",
        "3. Go to the [API keys page](https://platform.openai.com/account/api-keys).\n",
        "\n",
        "4. Create a new secret key.\n",
        "\n",
        "5. **Take a copy of it**. (If you lose it, delete the key and create a new one.)"
      ],
      "metadata": {
        "id": "vDGKAKYM4cAg"
      },
      "id": "vDGKAKYM4cAg"
    },
    {
      "cell_type": "markdown",
      "source": [
        " **Add a payment method**\n",
        "\n",
        "OpenAI sometimes provides free credits for the API, but it's not clear if that is worldwide or what the conditions are. You may need to add debit/credit card details.\n",
        "\n",
        "**The API costs [$0.002 / 1000 tokens](https://openai.com/pricing) for GPT-3.5-turbo. [1000 tokens is about 750 words](https://help.openai.com/en/articles/4936856-what-are-tokens-and-how-to-count-them). Each project should cost less than 10 US cents (but if you rerun tasks, you will be charged every time).**\n",
        "\n",
        "1. Go to the [Payment Methods page](https://platform.openai.com/account/billing/payment-methods).\n",
        "\n",
        "2. Click Add payment method.\n",
        "\n",
        "3. Fill in your card details."
      ],
      "metadata": {
        "id": "YqtAW2oD49AC"
      },
      "id": "YqtAW2oD49AC"
    },
    {
      "source": [
        "## Task 0: Setup"
      ],
      "metadata": {
        "id": "a9274661-8d8c-4cc5-901e-5fc497866b89"
      },
      "id": "a9274661-8d8c-4cc5-901e-5fc497866b89",
      "cell_type": "markdown"
    },
    {
      "source": [
        "We need to install the `langchain` package. This is currently being developed quickly, sometimes with breaking changes, so we fix the version.\n",
        "\n",
        "The `langchain` depends on a recent version of `typing_extensions`, so we need to update that package, again fixing the version."
      ],
      "metadata": {
        "id": "2cf847fd-f8f8-49f6-9b43-0eb098239072"
      },
      "id": "2cf847fd-f8f8-49f6-9b43-0eb098239072",
      "cell_type": "markdown"
    },
    {
      "source": [
        "### Instructions\n",
        "\n",
        "Run the following code to install `langchain` and `typing_extensions`."
      ],
      "metadata": {
        "id": "a9bfbc35-bc10-415d-818d-18697c7e1988"
      },
      "cell_type": "markdown",
      "id": "a9bfbc35-bc10-415d-818d-18697c7e1988"
    },
    {
      "cell_type": "code",
      "source": [
        "pip install python-dotenv"
      ],
      "metadata": {
        "colab": {
          "base_uri": "https://localhost:8080/"
        },
        "id": "mQJ5d2GVVbwm",
        "outputId": "a9275eaf-ca62-4a8a-ded7-2f1da48f843c"
      },
      "id": "mQJ5d2GVVbwm",
      "execution_count": 4,
      "outputs": [
        {
          "output_type": "stream",
          "name": "stdout",
          "text": [
            "Collecting python-dotenv\n",
            "  Downloading python_dotenv-1.0.1-py3-none-any.whl (19 kB)\n",
            "Installing collected packages: python-dotenv\n",
            "Successfully installed python-dotenv-1.0.1\n"
          ]
        }
      ]
    },
    {
      "cell_type": "code",
      "source": [
        "import os\n",
        "import openai\n",
        "from dotenv import load_dotenv\n",
        "\n",
        "# Load the environment variables from the .env file\n",
        "load_dotenv()\n",
        "\n",
        "# Set the OpenAI API key from the environment variable\n",
        "openai.api_key = os.getenv(\"\") # generate your OpenAI keys here\n"
      ],
      "metadata": {
        "id": "8ory8wunVkBN"
      },
      "id": "8ory8wunVkBN",
      "execution_count": 6,
      "outputs": []
    },
    {
      "source": [
        "# Lock OpenAI to version 0.27.1\n",
        "!pip install openai==0.27.1\n",
        "# Install the langchain package\n",
        "!pip install langchain==0.0.300"
      ],
      "metadata": {
        "executionCancelledAt": null,
        "executionTime": 21822,
        "lastExecutedAt": 1709640462856,
        "lastScheduledRunId": null,
        "lastSuccessfullyExecutedCode": "# Lock OpenAI to version 0.27.1\n!pip install openai==0.27.1\n# Install the langchain package\n!pip install langchain==0.0.300",
        "outputsMetadata": {
          "0": {
            "height": 616,
            "type": "stream"
          }
        },
        "collapsed": true,
        "jupyter": {
          "outputs_hidden": true,
          "source_hidden": false
        },
        "id": "c67f9639-2c6e-43e2-8681-46c5a42c1b12"
      },
      "cell_type": "code",
      "id": "c67f9639-2c6e-43e2-8681-46c5a42c1b12",
      "execution_count": null,
      "outputs": []
    },
    {
      "source": [
        "# Update the typing_extensions package\n",
        "!pip install typing_extensions==4.8.0"
      ],
      "metadata": {
        "executionCancelledAt": null,
        "executionTime": 4991,
        "lastExecutedAt": 1695344397632,
        "lastScheduledRunId": null,
        "lastSuccessfullyExecutedCode": "# Update the typing_extensions package\n!pip install typing_extensions==4.8.0",
        "outputsMetadata": {
          "0": {
            "height": 175,
            "type": "stream"
          }
        },
        "collapsed": true,
        "jupyter": {
          "outputs_hidden": true,
          "source_hidden": false
        },
        "id": "e33bdeab-3888-4032-995d-9f4589133cbf"
      },
      "cell_type": "code",
      "id": "e33bdeab-3888-4032-995d-9f4589133cbf",
      "execution_count": null,
      "outputs": []
    },
    {
      "source": [
        "In order to chat with GPT, we need first need to load the `openai` and `os` packages to set the API key from the environment variables you just created."
      ],
      "metadata": {
        "id": "9787756e-02d2-483b-8da2-482366103c8f"
      },
      "cell_type": "markdown",
      "id": "9787756e-02d2-483b-8da2-482366103c8f"
    },
    {
      "source": [
        "### Instructions\n",
        "\n",
        "- Import the `os` package.\n",
        "- Import the `openai` package.\n",
        "- Set `openai.api_key` to the `OPENAI_API_KEY` environment variable."
      ],
      "metadata": {
        "id": "5410f09e-ffc1-4e82-8f7d-0bab1ed08e43"
      },
      "cell_type": "markdown",
      "id": "5410f09e-ffc1-4e82-8f7d-0bab1ed08e43"
    },
    {
      "source": [
        "# Import the os package\n",
        "import os\n",
        "\n",
        "# Import the openai package\n",
        "import openai\n",
        "# Set openai.api_key to the OPENAI_API_KEY environment variable\n",
        "from dotenv import load_dotenv\n",
        "load_dotenv()\n",
        "openai.api_key = os.getenv(\"OPENAI_API_KEY\")"
      ],
      "metadata": {
        "executionCancelledAt": null,
        "executionTime": 73,
        "lastExecutedAt": 1695344397706,
        "lastScheduledRunId": null,
        "lastSuccessfullyExecutedCode": "# Import the os package\nimport os\n\n# Import the openai package\nimport openai\n\n# Set openai.api_key to the OPENAI_API_KEY environment variable\nopenai.api_key = os.environ[\"OPENAI_API_KEY\"]",
        "id": "1ce3946a-d0a7-4a89-96ae-6ad8ac8ca2c8"
      },
      "cell_type": "code",
      "id": "1ce3946a-d0a7-4a89-96ae-6ad8ac8ca2c8",
      "execution_count": 7,
      "outputs": []
    },
    {
      "source": [
        "We need to import the `langchain` package. It has many submodules, so to save typing later, we'll also import some specific functions from those submodules."
      ],
      "metadata": {
        "id": "c8bdeb78-f229-4d3c-8cac-9b2d6c06351e"
      },
      "cell_type": "markdown",
      "id": "c8bdeb78-f229-4d3c-8cac-9b2d6c06351e"
    },
    {
      "source": [
        "### Instructions\n",
        "\n",
        "- Import the `langchain` package as `lc`.\n",
        "- From the `langchain.chat_models` module, import `ChatOpenAI`.\n",
        "- From the `langchain.schema` module, import `AIMessage`, `HumanMessage`, `SystemMessage`."
      ],
      "metadata": {
        "id": "d10a21ba-c6ce-4474-b386-e27add3bd35c"
      },
      "cell_type": "markdown",
      "id": "d10a21ba-c6ce-4474-b386-e27add3bd35c"
    },
    {
      "source": [
        "# Import the langchain package as lc\n",
        "import langchain as lc\n",
        "\n",
        "# From the langchain.chat_models module, import ChatOpenAI\n",
        "from langchain.chat_models import ChatOpenAI\n",
        "\n",
        "# From the langchain.schema module, import AIMessage, HumanMessage, SystemMessage\n",
        "from langchain.schema import AIMessage, HumanMessage, SystemMessage"
      ],
      "metadata": {
        "executionCancelledAt": null,
        "executionTime": 1607,
        "lastExecutedAt": 1695344399314,
        "lastScheduledRunId": null,
        "lastSuccessfullyExecutedCode": "# Import the langchain package as lc\nimport langchain as lc\n\n# From the langchain.chat_models module, import ChatOpenAI\nfrom langchain.chat_models import ChatOpenAI\n\n# From the langchain.schema module, import AIMessage, HumanMessage, SystemMessage\nfrom langchain.schema import AIMessage, HumanMessage, SystemMessage",
        "id": "b3971bc6-1bbd-4e00-9b75-7ad51cfa14e3"
      },
      "cell_type": "code",
      "id": "b3971bc6-1bbd-4e00-9b75-7ad51cfa14e3",
      "execution_count": 8,
      "outputs": []
    },
    {
      "source": [
        "You'll also need to do some light data manipulation with the `pandas` package and data visualization with `plotly.express`.  Finally, the `IPython.display` pacakges contains functions to prettily display Markdown content."
      ],
      "metadata": {
        "id": "a98530c9-aca9-45bc-8da3-072b78b0c08d"
      },
      "cell_type": "markdown",
      "id": "a98530c9-aca9-45bc-8da3-072b78b0c08d"
    },
    {
      "source": [
        "### Instructions"
      ],
      "metadata": {
        "id": "92a9caca-70fd-4ac0-aa15-1bee55c456d3"
      },
      "id": "92a9caca-70fd-4ac0-aa15-1bee55c456d3",
      "cell_type": "markdown"
    },
    {
      "source": [
        "Import the following packages.\n",
        "\n",
        "- Import `pandas` using the alias `pd`.\n",
        "- Import `plotly.express` using the alias `px`.\n",
        "- From the `IPython.display` package, import `display` and `Markdown`.\n",
        "- etc."
      ],
      "metadata": {
        "id": "b1fcd794-b29c-4010-8be0-651a452b2044"
      },
      "id": "b1fcd794-b29c-4010-8be0-651a452b2044",
      "cell_type": "markdown"
    },
    {
      "source": [
        "# Import pandas using the alias pd\n",
        "import pandas as pd\n",
        "\n",
        "# Import plotly.express using the alias px\n",
        "import plotly.express as px\n",
        "\n",
        "# From the IPython.display package, import display and Markdown\n",
        "from IPython.display import display, Markdown"
      ],
      "metadata": {
        "executionCancelledAt": null,
        "executionTime": 161,
        "lastExecutedAt": 1695344399477,
        "lastScheduledRunId": null,
        "lastSuccessfullyExecutedCode": "# Import pandas using the alias pd\nimport pandas as pd\n\n# Import plotly.express using the alias px\nimport plotly.express as px\n\n# From the IPython.display package, import display and Markdown\nfrom IPython.display import display, Markdown",
        "id": "f81d6d0e-986b-49f4-94e1-7315a7f0bd67"
      },
      "id": "f81d6d0e-986b-49f4-94e1-7315a7f0bd67",
      "cell_type": "code",
      "execution_count": 9,
      "outputs": []
    },
    {
      "source": [
        "## Task 1: Import the Electric Cars Data"
      ],
      "metadata": {
        "id": "7f6c51c7-bbbb-4f0f-b218-850221f3dcdf"
      },
      "id": "7f6c51c7-bbbb-4f0f-b218-850221f3dcdf",
      "cell_type": "markdown"
    },
    {
      "source": [
        "The electric cars data is contained in a CSV file named `electric_cars.csv`.\n",
        "\n",
        "Each row in the dataset represents the count of the number of cars registered within a city, for a particular model.\n",
        "\n",
        "The dataset contains the following columns.\n",
        "\n",
        "- `city` (character): The city in which the registered owner resides.\n",
        "- `county` (character): The county in which the registered owner resides.\n",
        "- `model_year` (integer): The [model year](https://en.wikipedia.org/wiki/Model_year#United_States_and_Canada) of the car.\n",
        "- `make` (character): The manufacturer of the car.\n",
        "- `model` (character): The model of the car.\n",
        "- `electric_vehicle_type` (character): Either \"Plug-in Hybrid Electric Vehicle (PHEV)\" or \"Battery Electric Vehicle (BEV)\".\n",
        "- `n_cars` (integer): The count of the number of vehicles registered.\n",
        "\n",
        "Our first step is to import and print the data."
      ],
      "metadata": {
        "id": "fce00845-9741-4979-91aa-e43ff0db5299"
      },
      "id": "fce00845-9741-4979-91aa-e43ff0db5299",
      "cell_type": "markdown"
    },
    {
      "source": [
        "### Instructions"
      ],
      "metadata": {
        "id": "1b998f52-93c9-411c-ba74-473955de4b8e"
      },
      "id": "1b998f52-93c9-411c-ba74-473955de4b8e",
      "cell_type": "markdown"
    },
    {
      "source": [
        "Import the electric cars data to a pandas dataframe.\n",
        "\n",
        "- Read the data from `electric_cars.csv`. Assign to `electric_cars`.\n",
        "- Display a description of the numeric columns of `electric_cars`.\n",
        "- Display a description of the object columns of `electric_cars`.\n",
        "- Print the whole dataset."
      ],
      "metadata": {
        "id": "c19bfda1-fe9a-4344-9dd9-613d33598d21"
      },
      "id": "c19bfda1-fe9a-4344-9dd9-613d33598d21",
      "cell_type": "markdown"
    },
    {
      "source": [
        "# Read the data from electric_cars.csv. Assign to electric_cars.\n",
        "electric_cars = pd.read_csv(\"/content/electric_cars.csv\")\n",
        "\n",
        "# Display a description of the numeric columns\n",
        "print(\"Description of numeric columns\\n\")\n",
        "display(electric_cars.describe())\n",
        "\n",
        "# Display a description of the text (object) columns\n",
        "print(\"Description of text columns\\n\")\n",
        "display(electric_cars.describe(include=\"O\"))\n",
        "\n",
        "# Print the whole dataset\n",
        "print(\"The electric cars dataset\\n\")\n",
        "display(electric_cars)"
      ],
      "metadata": {
        "executionCancelledAt": null,
        "executionTime": 246,
        "lastExecutedAt": 1695344399724,
        "lastScheduledRunId": null,
        "lastSuccessfullyExecutedCode": "# Read the data from electric_cars.csv. Assign to electric_cars.\nelectric_cars = pd.read_csv(\"electric_cars.csv\")\n\n# Display a description of the numeric columns\nprint(\"Description of numeric columns\\n\")\ndisplay(electric_cars.describe())\n\n# Display a description of the text (object) columns\nprint(\"Description of text columns\\n\")\ndisplay(electric_cars.describe(include=\"O\"))\n\n# Print the whole dataset\nprint(\"The electric cars dataset\\n\")\nelectric_cars",
        "outputsMetadata": {
          "0": {
            "height": 56,
            "type": "stream"
          },
          "1": {
            "height": 266,
            "type": "dataFrame"
          },
          "2": {
            "height": 56,
            "type": "stream"
          },
          "3": {
            "height": 168,
            "type": "dataFrame"
          },
          "4": {
            "height": 56,
            "type": "stream"
          },
          "5": {
            "height": 343,
            "type": "dataFrame"
          }
        },
        "colab": {
          "base_uri": "https://localhost:8080/",
          "height": 969
        },
        "id": "474d98a8-33ce-4898-a641-4853f17e5738",
        "outputId": "31bd4156-f516-4bbd-e726-4e0125307935"
      },
      "id": "474d98a8-33ce-4898-a641-4853f17e5738",
      "cell_type": "code",
      "execution_count": 10,
      "outputs": [
        {
          "output_type": "stream",
          "name": "stdout",
          "text": [
            "Description of numeric columns\n",
            "\n"
          ]
        },
        {
          "output_type": "display_data",
          "data": {
            "text/plain": [
              "         model_year        n_cars\n",
              "count  26813.000000  26813.000000\n",
              "mean    2019.375527      5.612166\n",
              "std        3.286257     26.997325\n",
              "min     1997.000000      1.000000\n",
              "25%     2017.000000      1.000000\n",
              "50%     2020.000000      2.000000\n",
              "75%     2022.000000      4.000000\n",
              "max     2024.000000   1514.000000"
            ],
            "text/html": [
              "\n",
              "  <div id=\"df-6a470c92-277c-4e9a-ae78-fedd84b25b5a\" class=\"colab-df-container\">\n",
              "    <div>\n",
              "<style scoped>\n",
              "    .dataframe tbody tr th:only-of-type {\n",
              "        vertical-align: middle;\n",
              "    }\n",
              "\n",
              "    .dataframe tbody tr th {\n",
              "        vertical-align: top;\n",
              "    }\n",
              "\n",
              "    .dataframe thead th {\n",
              "        text-align: right;\n",
              "    }\n",
              "</style>\n",
              "<table border=\"1\" class=\"dataframe\">\n",
              "  <thead>\n",
              "    <tr style=\"text-align: right;\">\n",
              "      <th></th>\n",
              "      <th>model_year</th>\n",
              "      <th>n_cars</th>\n",
              "    </tr>\n",
              "  </thead>\n",
              "  <tbody>\n",
              "    <tr>\n",
              "      <th>count</th>\n",
              "      <td>26813.000000</td>\n",
              "      <td>26813.000000</td>\n",
              "    </tr>\n",
              "    <tr>\n",
              "      <th>mean</th>\n",
              "      <td>2019.375527</td>\n",
              "      <td>5.612166</td>\n",
              "    </tr>\n",
              "    <tr>\n",
              "      <th>std</th>\n",
              "      <td>3.286257</td>\n",
              "      <td>26.997325</td>\n",
              "    </tr>\n",
              "    <tr>\n",
              "      <th>min</th>\n",
              "      <td>1997.000000</td>\n",
              "      <td>1.000000</td>\n",
              "    </tr>\n",
              "    <tr>\n",
              "      <th>25%</th>\n",
              "      <td>2017.000000</td>\n",
              "      <td>1.000000</td>\n",
              "    </tr>\n",
              "    <tr>\n",
              "      <th>50%</th>\n",
              "      <td>2020.000000</td>\n",
              "      <td>2.000000</td>\n",
              "    </tr>\n",
              "    <tr>\n",
              "      <th>75%</th>\n",
              "      <td>2022.000000</td>\n",
              "      <td>4.000000</td>\n",
              "    </tr>\n",
              "    <tr>\n",
              "      <th>max</th>\n",
              "      <td>2024.000000</td>\n",
              "      <td>1514.000000</td>\n",
              "    </tr>\n",
              "  </tbody>\n",
              "</table>\n",
              "</div>\n",
              "    <div class=\"colab-df-buttons\">\n",
              "\n",
              "  <div class=\"colab-df-container\">\n",
              "    <button class=\"colab-df-convert\" onclick=\"convertToInteractive('df-6a470c92-277c-4e9a-ae78-fedd84b25b5a')\"\n",
              "            title=\"Convert this dataframe to an interactive table.\"\n",
              "            style=\"display:none;\">\n",
              "\n",
              "  <svg xmlns=\"http://www.w3.org/2000/svg\" height=\"24px\" viewBox=\"0 -960 960 960\">\n",
              "    <path d=\"M120-120v-720h720v720H120Zm60-500h600v-160H180v160Zm220 220h160v-160H400v160Zm0 220h160v-160H400v160ZM180-400h160v-160H180v160Zm440 0h160v-160H620v160ZM180-180h160v-160H180v160Zm440 0h160v-160H620v160Z\"/>\n",
              "  </svg>\n",
              "    </button>\n",
              "\n",
              "  <style>\n",
              "    .colab-df-container {\n",
              "      display:flex;\n",
              "      gap: 12px;\n",
              "    }\n",
              "\n",
              "    .colab-df-convert {\n",
              "      background-color: #E8F0FE;\n",
              "      border: none;\n",
              "      border-radius: 50%;\n",
              "      cursor: pointer;\n",
              "      display: none;\n",
              "      fill: #1967D2;\n",
              "      height: 32px;\n",
              "      padding: 0 0 0 0;\n",
              "      width: 32px;\n",
              "    }\n",
              "\n",
              "    .colab-df-convert:hover {\n",
              "      background-color: #E2EBFA;\n",
              "      box-shadow: 0px 1px 2px rgba(60, 64, 67, 0.3), 0px 1px 3px 1px rgba(60, 64, 67, 0.15);\n",
              "      fill: #174EA6;\n",
              "    }\n",
              "\n",
              "    .colab-df-buttons div {\n",
              "      margin-bottom: 4px;\n",
              "    }\n",
              "\n",
              "    [theme=dark] .colab-df-convert {\n",
              "      background-color: #3B4455;\n",
              "      fill: #D2E3FC;\n",
              "    }\n",
              "\n",
              "    [theme=dark] .colab-df-convert:hover {\n",
              "      background-color: #434B5C;\n",
              "      box-shadow: 0px 1px 3px 1px rgba(0, 0, 0, 0.15);\n",
              "      filter: drop-shadow(0px 1px 2px rgba(0, 0, 0, 0.3));\n",
              "      fill: #FFFFFF;\n",
              "    }\n",
              "  </style>\n",
              "\n",
              "    <script>\n",
              "      const buttonEl =\n",
              "        document.querySelector('#df-6a470c92-277c-4e9a-ae78-fedd84b25b5a button.colab-df-convert');\n",
              "      buttonEl.style.display =\n",
              "        google.colab.kernel.accessAllowed ? 'block' : 'none';\n",
              "\n",
              "      async function convertToInteractive(key) {\n",
              "        const element = document.querySelector('#df-6a470c92-277c-4e9a-ae78-fedd84b25b5a');\n",
              "        const dataTable =\n",
              "          await google.colab.kernel.invokeFunction('convertToInteractive',\n",
              "                                                    [key], {});\n",
              "        if (!dataTable) return;\n",
              "\n",
              "        const docLinkHtml = 'Like what you see? Visit the ' +\n",
              "          '<a target=\"_blank\" href=https://colab.research.google.com/notebooks/data_table.ipynb>data table notebook</a>'\n",
              "          + ' to learn more about interactive tables.';\n",
              "        element.innerHTML = '';\n",
              "        dataTable['output_type'] = 'display_data';\n",
              "        await google.colab.output.renderOutput(dataTable, element);\n",
              "        const docLink = document.createElement('div');\n",
              "        docLink.innerHTML = docLinkHtml;\n",
              "        element.appendChild(docLink);\n",
              "      }\n",
              "    </script>\n",
              "  </div>\n",
              "\n",
              "\n",
              "<div id=\"df-e4194b46-a304-4e7d-b028-9d31fe712a24\">\n",
              "  <button class=\"colab-df-quickchart\" onclick=\"quickchart('df-e4194b46-a304-4e7d-b028-9d31fe712a24')\"\n",
              "            title=\"Suggest charts\"\n",
              "            style=\"display:none;\">\n",
              "\n",
              "<svg xmlns=\"http://www.w3.org/2000/svg\" height=\"24px\"viewBox=\"0 0 24 24\"\n",
              "     width=\"24px\">\n",
              "    <g>\n",
              "        <path d=\"M19 3H5c-1.1 0-2 .9-2 2v14c0 1.1.9 2 2 2h14c1.1 0 2-.9 2-2V5c0-1.1-.9-2-2-2zM9 17H7v-7h2v7zm4 0h-2V7h2v10zm4 0h-2v-4h2v4z\"/>\n",
              "    </g>\n",
              "</svg>\n",
              "  </button>\n",
              "\n",
              "<style>\n",
              "  .colab-df-quickchart {\n",
              "      --bg-color: #E8F0FE;\n",
              "      --fill-color: #1967D2;\n",
              "      --hover-bg-color: #E2EBFA;\n",
              "      --hover-fill-color: #174EA6;\n",
              "      --disabled-fill-color: #AAA;\n",
              "      --disabled-bg-color: #DDD;\n",
              "  }\n",
              "\n",
              "  [theme=dark] .colab-df-quickchart {\n",
              "      --bg-color: #3B4455;\n",
              "      --fill-color: #D2E3FC;\n",
              "      --hover-bg-color: #434B5C;\n",
              "      --hover-fill-color: #FFFFFF;\n",
              "      --disabled-bg-color: #3B4455;\n",
              "      --disabled-fill-color: #666;\n",
              "  }\n",
              "\n",
              "  .colab-df-quickchart {\n",
              "    background-color: var(--bg-color);\n",
              "    border: none;\n",
              "    border-radius: 50%;\n",
              "    cursor: pointer;\n",
              "    display: none;\n",
              "    fill: var(--fill-color);\n",
              "    height: 32px;\n",
              "    padding: 0;\n",
              "    width: 32px;\n",
              "  }\n",
              "\n",
              "  .colab-df-quickchart:hover {\n",
              "    background-color: var(--hover-bg-color);\n",
              "    box-shadow: 0 1px 2px rgba(60, 64, 67, 0.3), 0 1px 3px 1px rgba(60, 64, 67, 0.15);\n",
              "    fill: var(--button-hover-fill-color);\n",
              "  }\n",
              "\n",
              "  .colab-df-quickchart-complete:disabled,\n",
              "  .colab-df-quickchart-complete:disabled:hover {\n",
              "    background-color: var(--disabled-bg-color);\n",
              "    fill: var(--disabled-fill-color);\n",
              "    box-shadow: none;\n",
              "  }\n",
              "\n",
              "  .colab-df-spinner {\n",
              "    border: 2px solid var(--fill-color);\n",
              "    border-color: transparent;\n",
              "    border-bottom-color: var(--fill-color);\n",
              "    animation:\n",
              "      spin 1s steps(1) infinite;\n",
              "  }\n",
              "\n",
              "  @keyframes spin {\n",
              "    0% {\n",
              "      border-color: transparent;\n",
              "      border-bottom-color: var(--fill-color);\n",
              "      border-left-color: var(--fill-color);\n",
              "    }\n",
              "    20% {\n",
              "      border-color: transparent;\n",
              "      border-left-color: var(--fill-color);\n",
              "      border-top-color: var(--fill-color);\n",
              "    }\n",
              "    30% {\n",
              "      border-color: transparent;\n",
              "      border-left-color: var(--fill-color);\n",
              "      border-top-color: var(--fill-color);\n",
              "      border-right-color: var(--fill-color);\n",
              "    }\n",
              "    40% {\n",
              "      border-color: transparent;\n",
              "      border-right-color: var(--fill-color);\n",
              "      border-top-color: var(--fill-color);\n",
              "    }\n",
              "    60% {\n",
              "      border-color: transparent;\n",
              "      border-right-color: var(--fill-color);\n",
              "    }\n",
              "    80% {\n",
              "      border-color: transparent;\n",
              "      border-right-color: var(--fill-color);\n",
              "      border-bottom-color: var(--fill-color);\n",
              "    }\n",
              "    90% {\n",
              "      border-color: transparent;\n",
              "      border-bottom-color: var(--fill-color);\n",
              "    }\n",
              "  }\n",
              "</style>\n",
              "\n",
              "  <script>\n",
              "    async function quickchart(key) {\n",
              "      const quickchartButtonEl =\n",
              "        document.querySelector('#' + key + ' button');\n",
              "      quickchartButtonEl.disabled = true;  // To prevent multiple clicks.\n",
              "      quickchartButtonEl.classList.add('colab-df-spinner');\n",
              "      try {\n",
              "        const charts = await google.colab.kernel.invokeFunction(\n",
              "            'suggestCharts', [key], {});\n",
              "      } catch (error) {\n",
              "        console.error('Error during call to suggestCharts:', error);\n",
              "      }\n",
              "      quickchartButtonEl.classList.remove('colab-df-spinner');\n",
              "      quickchartButtonEl.classList.add('colab-df-quickchart-complete');\n",
              "    }\n",
              "    (() => {\n",
              "      let quickchartButtonEl =\n",
              "        document.querySelector('#df-e4194b46-a304-4e7d-b028-9d31fe712a24 button');\n",
              "      quickchartButtonEl.style.display =\n",
              "        google.colab.kernel.accessAllowed ? 'block' : 'none';\n",
              "    })();\n",
              "  </script>\n",
              "</div>\n",
              "\n",
              "    </div>\n",
              "  </div>\n"
            ],
            "application/vnd.google.colaboratory.intrinsic+json": {
              "type": "dataframe",
              "summary": "{\n  \"name\": \"display(electric_cars)\",\n  \"rows\": 8,\n  \"fields\": [\n    {\n      \"column\": \"model_year\",\n      \"properties\": {\n        \"dtype\": \"number\",\n        \"std\": 8896.492276713534,\n        \"min\": 3.286257153135276,\n        \"max\": 26813.0,\n        \"num_unique_values\": 8,\n        \"samples\": [\n          2019.375526796703,\n          2020.0,\n          26813.0\n        ],\n        \"semantic_type\": \"\",\n        \"description\": \"\"\n      }\n    },\n    {\n      \"column\": \"n_cars\",\n      \"properties\": {\n        \"dtype\": \"number\",\n        \"std\": 9416.094040229369,\n        \"min\": 1.0,\n        \"max\": 26813.0,\n        \"num_unique_values\": 7,\n        \"samples\": [\n          26813.0,\n          5.6121657404990115,\n          4.0\n        ],\n        \"semantic_type\": \"\",\n        \"description\": \"\"\n      }\n    }\n  ]\n}"
            }
          },
          "metadata": {}
        },
        {
          "output_type": "stream",
          "name": "stdout",
          "text": [
            "Description of text columns\n",
            "\n"
          ]
        },
        {
          "output_type": "display_data",
          "data": {
            "text/plain": [
              "           city county   make  model           electric_vehicle_type\n",
              "count     26813  26813  26813  26813                           26813\n",
              "unique      683    183     37    127                               2\n",
              "top     Bothell   King  TESLA   LEAF  Battery Electric Vehicle (BEV)\n",
              "freq        479   7066   5071   1889                           15885"
            ],
            "text/html": [
              "\n",
              "  <div id=\"df-eb19a33c-0a41-4966-a92d-9ac67cb444bc\" class=\"colab-df-container\">\n",
              "    <div>\n",
              "<style scoped>\n",
              "    .dataframe tbody tr th:only-of-type {\n",
              "        vertical-align: middle;\n",
              "    }\n",
              "\n",
              "    .dataframe tbody tr th {\n",
              "        vertical-align: top;\n",
              "    }\n",
              "\n",
              "    .dataframe thead th {\n",
              "        text-align: right;\n",
              "    }\n",
              "</style>\n",
              "<table border=\"1\" class=\"dataframe\">\n",
              "  <thead>\n",
              "    <tr style=\"text-align: right;\">\n",
              "      <th></th>\n",
              "      <th>city</th>\n",
              "      <th>county</th>\n",
              "      <th>make</th>\n",
              "      <th>model</th>\n",
              "      <th>electric_vehicle_type</th>\n",
              "    </tr>\n",
              "  </thead>\n",
              "  <tbody>\n",
              "    <tr>\n",
              "      <th>count</th>\n",
              "      <td>26813</td>\n",
              "      <td>26813</td>\n",
              "      <td>26813</td>\n",
              "      <td>26813</td>\n",
              "      <td>26813</td>\n",
              "    </tr>\n",
              "    <tr>\n",
              "      <th>unique</th>\n",
              "      <td>683</td>\n",
              "      <td>183</td>\n",
              "      <td>37</td>\n",
              "      <td>127</td>\n",
              "      <td>2</td>\n",
              "    </tr>\n",
              "    <tr>\n",
              "      <th>top</th>\n",
              "      <td>Bothell</td>\n",
              "      <td>King</td>\n",
              "      <td>TESLA</td>\n",
              "      <td>LEAF</td>\n",
              "      <td>Battery Electric Vehicle (BEV)</td>\n",
              "    </tr>\n",
              "    <tr>\n",
              "      <th>freq</th>\n",
              "      <td>479</td>\n",
              "      <td>7066</td>\n",
              "      <td>5071</td>\n",
              "      <td>1889</td>\n",
              "      <td>15885</td>\n",
              "    </tr>\n",
              "  </tbody>\n",
              "</table>\n",
              "</div>\n",
              "    <div class=\"colab-df-buttons\">\n",
              "\n",
              "  <div class=\"colab-df-container\">\n",
              "    <button class=\"colab-df-convert\" onclick=\"convertToInteractive('df-eb19a33c-0a41-4966-a92d-9ac67cb444bc')\"\n",
              "            title=\"Convert this dataframe to an interactive table.\"\n",
              "            style=\"display:none;\">\n",
              "\n",
              "  <svg xmlns=\"http://www.w3.org/2000/svg\" height=\"24px\" viewBox=\"0 -960 960 960\">\n",
              "    <path d=\"M120-120v-720h720v720H120Zm60-500h600v-160H180v160Zm220 220h160v-160H400v160Zm0 220h160v-160H400v160ZM180-400h160v-160H180v160Zm440 0h160v-160H620v160ZM180-180h160v-160H180v160Zm440 0h160v-160H620v160Z\"/>\n",
              "  </svg>\n",
              "    </button>\n",
              "\n",
              "  <style>\n",
              "    .colab-df-container {\n",
              "      display:flex;\n",
              "      gap: 12px;\n",
              "    }\n",
              "\n",
              "    .colab-df-convert {\n",
              "      background-color: #E8F0FE;\n",
              "      border: none;\n",
              "      border-radius: 50%;\n",
              "      cursor: pointer;\n",
              "      display: none;\n",
              "      fill: #1967D2;\n",
              "      height: 32px;\n",
              "      padding: 0 0 0 0;\n",
              "      width: 32px;\n",
              "    }\n",
              "\n",
              "    .colab-df-convert:hover {\n",
              "      background-color: #E2EBFA;\n",
              "      box-shadow: 0px 1px 2px rgba(60, 64, 67, 0.3), 0px 1px 3px 1px rgba(60, 64, 67, 0.15);\n",
              "      fill: #174EA6;\n",
              "    }\n",
              "\n",
              "    .colab-df-buttons div {\n",
              "      margin-bottom: 4px;\n",
              "    }\n",
              "\n",
              "    [theme=dark] .colab-df-convert {\n",
              "      background-color: #3B4455;\n",
              "      fill: #D2E3FC;\n",
              "    }\n",
              "\n",
              "    [theme=dark] .colab-df-convert:hover {\n",
              "      background-color: #434B5C;\n",
              "      box-shadow: 0px 1px 3px 1px rgba(0, 0, 0, 0.15);\n",
              "      filter: drop-shadow(0px 1px 2px rgba(0, 0, 0, 0.3));\n",
              "      fill: #FFFFFF;\n",
              "    }\n",
              "  </style>\n",
              "\n",
              "    <script>\n",
              "      const buttonEl =\n",
              "        document.querySelector('#df-eb19a33c-0a41-4966-a92d-9ac67cb444bc button.colab-df-convert');\n",
              "      buttonEl.style.display =\n",
              "        google.colab.kernel.accessAllowed ? 'block' : 'none';\n",
              "\n",
              "      async function convertToInteractive(key) {\n",
              "        const element = document.querySelector('#df-eb19a33c-0a41-4966-a92d-9ac67cb444bc');\n",
              "        const dataTable =\n",
              "          await google.colab.kernel.invokeFunction('convertToInteractive',\n",
              "                                                    [key], {});\n",
              "        if (!dataTable) return;\n",
              "\n",
              "        const docLinkHtml = 'Like what you see? Visit the ' +\n",
              "          '<a target=\"_blank\" href=https://colab.research.google.com/notebooks/data_table.ipynb>data table notebook</a>'\n",
              "          + ' to learn more about interactive tables.';\n",
              "        element.innerHTML = '';\n",
              "        dataTable['output_type'] = 'display_data';\n",
              "        await google.colab.output.renderOutput(dataTable, element);\n",
              "        const docLink = document.createElement('div');\n",
              "        docLink.innerHTML = docLinkHtml;\n",
              "        element.appendChild(docLink);\n",
              "      }\n",
              "    </script>\n",
              "  </div>\n",
              "\n",
              "\n",
              "<div id=\"df-a2fd1f02-32cd-4bb8-a628-b5028610fa1f\">\n",
              "  <button class=\"colab-df-quickchart\" onclick=\"quickchart('df-a2fd1f02-32cd-4bb8-a628-b5028610fa1f')\"\n",
              "            title=\"Suggest charts\"\n",
              "            style=\"display:none;\">\n",
              "\n",
              "<svg xmlns=\"http://www.w3.org/2000/svg\" height=\"24px\"viewBox=\"0 0 24 24\"\n",
              "     width=\"24px\">\n",
              "    <g>\n",
              "        <path d=\"M19 3H5c-1.1 0-2 .9-2 2v14c0 1.1.9 2 2 2h14c1.1 0 2-.9 2-2V5c0-1.1-.9-2-2-2zM9 17H7v-7h2v7zm4 0h-2V7h2v10zm4 0h-2v-4h2v4z\"/>\n",
              "    </g>\n",
              "</svg>\n",
              "  </button>\n",
              "\n",
              "<style>\n",
              "  .colab-df-quickchart {\n",
              "      --bg-color: #E8F0FE;\n",
              "      --fill-color: #1967D2;\n",
              "      --hover-bg-color: #E2EBFA;\n",
              "      --hover-fill-color: #174EA6;\n",
              "      --disabled-fill-color: #AAA;\n",
              "      --disabled-bg-color: #DDD;\n",
              "  }\n",
              "\n",
              "  [theme=dark] .colab-df-quickchart {\n",
              "      --bg-color: #3B4455;\n",
              "      --fill-color: #D2E3FC;\n",
              "      --hover-bg-color: #434B5C;\n",
              "      --hover-fill-color: #FFFFFF;\n",
              "      --disabled-bg-color: #3B4455;\n",
              "      --disabled-fill-color: #666;\n",
              "  }\n",
              "\n",
              "  .colab-df-quickchart {\n",
              "    background-color: var(--bg-color);\n",
              "    border: none;\n",
              "    border-radius: 50%;\n",
              "    cursor: pointer;\n",
              "    display: none;\n",
              "    fill: var(--fill-color);\n",
              "    height: 32px;\n",
              "    padding: 0;\n",
              "    width: 32px;\n",
              "  }\n",
              "\n",
              "  .colab-df-quickchart:hover {\n",
              "    background-color: var(--hover-bg-color);\n",
              "    box-shadow: 0 1px 2px rgba(60, 64, 67, 0.3), 0 1px 3px 1px rgba(60, 64, 67, 0.15);\n",
              "    fill: var(--button-hover-fill-color);\n",
              "  }\n",
              "\n",
              "  .colab-df-quickchart-complete:disabled,\n",
              "  .colab-df-quickchart-complete:disabled:hover {\n",
              "    background-color: var(--disabled-bg-color);\n",
              "    fill: var(--disabled-fill-color);\n",
              "    box-shadow: none;\n",
              "  }\n",
              "\n",
              "  .colab-df-spinner {\n",
              "    border: 2px solid var(--fill-color);\n",
              "    border-color: transparent;\n",
              "    border-bottom-color: var(--fill-color);\n",
              "    animation:\n",
              "      spin 1s steps(1) infinite;\n",
              "  }\n",
              "\n",
              "  @keyframes spin {\n",
              "    0% {\n",
              "      border-color: transparent;\n",
              "      border-bottom-color: var(--fill-color);\n",
              "      border-left-color: var(--fill-color);\n",
              "    }\n",
              "    20% {\n",
              "      border-color: transparent;\n",
              "      border-left-color: var(--fill-color);\n",
              "      border-top-color: var(--fill-color);\n",
              "    }\n",
              "    30% {\n",
              "      border-color: transparent;\n",
              "      border-left-color: var(--fill-color);\n",
              "      border-top-color: var(--fill-color);\n",
              "      border-right-color: var(--fill-color);\n",
              "    }\n",
              "    40% {\n",
              "      border-color: transparent;\n",
              "      border-right-color: var(--fill-color);\n",
              "      border-top-color: var(--fill-color);\n",
              "    }\n",
              "    60% {\n",
              "      border-color: transparent;\n",
              "      border-right-color: var(--fill-color);\n",
              "    }\n",
              "    80% {\n",
              "      border-color: transparent;\n",
              "      border-right-color: var(--fill-color);\n",
              "      border-bottom-color: var(--fill-color);\n",
              "    }\n",
              "    90% {\n",
              "      border-color: transparent;\n",
              "      border-bottom-color: var(--fill-color);\n",
              "    }\n",
              "  }\n",
              "</style>\n",
              "\n",
              "  <script>\n",
              "    async function quickchart(key) {\n",
              "      const quickchartButtonEl =\n",
              "        document.querySelector('#' + key + ' button');\n",
              "      quickchartButtonEl.disabled = true;  // To prevent multiple clicks.\n",
              "      quickchartButtonEl.classList.add('colab-df-spinner');\n",
              "      try {\n",
              "        const charts = await google.colab.kernel.invokeFunction(\n",
              "            'suggestCharts', [key], {});\n",
              "      } catch (error) {\n",
              "        console.error('Error during call to suggestCharts:', error);\n",
              "      }\n",
              "      quickchartButtonEl.classList.remove('colab-df-spinner');\n",
              "      quickchartButtonEl.classList.add('colab-df-quickchart-complete');\n",
              "    }\n",
              "    (() => {\n",
              "      let quickchartButtonEl =\n",
              "        document.querySelector('#df-a2fd1f02-32cd-4bb8-a628-b5028610fa1f button');\n",
              "      quickchartButtonEl.style.display =\n",
              "        google.colab.kernel.accessAllowed ? 'block' : 'none';\n",
              "    })();\n",
              "  </script>\n",
              "</div>\n",
              "\n",
              "    </div>\n",
              "  </div>\n"
            ],
            "application/vnd.google.colaboratory.intrinsic+json": {
              "type": "dataframe",
              "summary": "{\n  \"name\": \"display(electric_cars)\",\n  \"rows\": 4,\n  \"fields\": [\n    {\n      \"column\": \"city\",\n      \"properties\": {\n        \"dtype\": \"string\",\n        \"num_unique_values\": 4,\n        \"samples\": [\n          683,\n          \"479\",\n          \"26813\"\n        ],\n        \"semantic_type\": \"\",\n        \"description\": \"\"\n      }\n    },\n    {\n      \"column\": \"county\",\n      \"properties\": {\n        \"dtype\": \"string\",\n        \"num_unique_values\": 4,\n        \"samples\": [\n          183,\n          \"7066\",\n          \"26813\"\n        ],\n        \"semantic_type\": \"\",\n        \"description\": \"\"\n      }\n    },\n    {\n      \"column\": \"make\",\n      \"properties\": {\n        \"dtype\": \"string\",\n        \"num_unique_values\": 4,\n        \"samples\": [\n          37,\n          \"5071\",\n          \"26813\"\n        ],\n        \"semantic_type\": \"\",\n        \"description\": \"\"\n      }\n    },\n    {\n      \"column\": \"model\",\n      \"properties\": {\n        \"dtype\": \"string\",\n        \"num_unique_values\": 4,\n        \"samples\": [\n          127,\n          \"1889\",\n          \"26813\"\n        ],\n        \"semantic_type\": \"\",\n        \"description\": \"\"\n      }\n    },\n    {\n      \"column\": \"electric_vehicle_type\",\n      \"properties\": {\n        \"dtype\": \"string\",\n        \"num_unique_values\": 4,\n        \"samples\": [\n          2,\n          \"15885\",\n          \"26813\"\n        ],\n        \"semantic_type\": \"\",\n        \"description\": \"\"\n      }\n    }\n  ]\n}"
            }
          },
          "metadata": {}
        },
        {
          "output_type": "stream",
          "name": "stdout",
          "text": [
            "The electric cars dataset\n",
            "\n"
          ]
        },
        {
          "output_type": "display_data",
          "data": {
            "text/plain": [
              "           city  county  model_year        make          model  \\\n",
              "0       Seattle    King        2023       TESLA        MODEL Y   \n",
              "1       Seattle    King        2018       TESLA        MODEL 3   \n",
              "2       Seattle    King        2021       TESLA        MODEL Y   \n",
              "3       Seattle    King        2022       TESLA        MODEL Y   \n",
              "4      Bellevue    King        2023       TESLA        MODEL Y   \n",
              "...         ...     ...         ...         ...            ...   \n",
              "26808  Lakewood  Pierce        2022         BMW             IX   \n",
              "26809  Lakewood  Pierce        2022         BMW             X5   \n",
              "26810  Lakewood  Pierce        2022        FORD        TRANSIT   \n",
              "26811  Lakewood  Pierce        2022     HYUNDAI  KONA ELECTRIC   \n",
              "26812    Zillah  Yakima        2023  VOLKSWAGEN           ID.4   \n",
              "\n",
              "                        electric_vehicle_type  n_cars  \n",
              "0              Battery Electric Vehicle (BEV)    1514  \n",
              "1              Battery Electric Vehicle (BEV)    1153  \n",
              "2              Battery Electric Vehicle (BEV)    1147  \n",
              "3              Battery Electric Vehicle (BEV)    1122  \n",
              "4              Battery Electric Vehicle (BEV)     931  \n",
              "...                                       ...     ...  \n",
              "26808          Battery Electric Vehicle (BEV)       1  \n",
              "26809  Plug-in Hybrid Electric Vehicle (PHEV)       1  \n",
              "26810          Battery Electric Vehicle (BEV)       1  \n",
              "26811          Battery Electric Vehicle (BEV)       1  \n",
              "26812          Battery Electric Vehicle (BEV)       1  \n",
              "\n",
              "[26813 rows x 7 columns]"
            ],
            "text/html": [
              "\n",
              "  <div id=\"df-98c07f94-2a32-4965-b87f-5d43f3bc4550\" class=\"colab-df-container\">\n",
              "    <div>\n",
              "<style scoped>\n",
              "    .dataframe tbody tr th:only-of-type {\n",
              "        vertical-align: middle;\n",
              "    }\n",
              "\n",
              "    .dataframe tbody tr th {\n",
              "        vertical-align: top;\n",
              "    }\n",
              "\n",
              "    .dataframe thead th {\n",
              "        text-align: right;\n",
              "    }\n",
              "</style>\n",
              "<table border=\"1\" class=\"dataframe\">\n",
              "  <thead>\n",
              "    <tr style=\"text-align: right;\">\n",
              "      <th></th>\n",
              "      <th>city</th>\n",
              "      <th>county</th>\n",
              "      <th>model_year</th>\n",
              "      <th>make</th>\n",
              "      <th>model</th>\n",
              "      <th>electric_vehicle_type</th>\n",
              "      <th>n_cars</th>\n",
              "    </tr>\n",
              "  </thead>\n",
              "  <tbody>\n",
              "    <tr>\n",
              "      <th>0</th>\n",
              "      <td>Seattle</td>\n",
              "      <td>King</td>\n",
              "      <td>2023</td>\n",
              "      <td>TESLA</td>\n",
              "      <td>MODEL Y</td>\n",
              "      <td>Battery Electric Vehicle (BEV)</td>\n",
              "      <td>1514</td>\n",
              "    </tr>\n",
              "    <tr>\n",
              "      <th>1</th>\n",
              "      <td>Seattle</td>\n",
              "      <td>King</td>\n",
              "      <td>2018</td>\n",
              "      <td>TESLA</td>\n",
              "      <td>MODEL 3</td>\n",
              "      <td>Battery Electric Vehicle (BEV)</td>\n",
              "      <td>1153</td>\n",
              "    </tr>\n",
              "    <tr>\n",
              "      <th>2</th>\n",
              "      <td>Seattle</td>\n",
              "      <td>King</td>\n",
              "      <td>2021</td>\n",
              "      <td>TESLA</td>\n",
              "      <td>MODEL Y</td>\n",
              "      <td>Battery Electric Vehicle (BEV)</td>\n",
              "      <td>1147</td>\n",
              "    </tr>\n",
              "    <tr>\n",
              "      <th>3</th>\n",
              "      <td>Seattle</td>\n",
              "      <td>King</td>\n",
              "      <td>2022</td>\n",
              "      <td>TESLA</td>\n",
              "      <td>MODEL Y</td>\n",
              "      <td>Battery Electric Vehicle (BEV)</td>\n",
              "      <td>1122</td>\n",
              "    </tr>\n",
              "    <tr>\n",
              "      <th>4</th>\n",
              "      <td>Bellevue</td>\n",
              "      <td>King</td>\n",
              "      <td>2023</td>\n",
              "      <td>TESLA</td>\n",
              "      <td>MODEL Y</td>\n",
              "      <td>Battery Electric Vehicle (BEV)</td>\n",
              "      <td>931</td>\n",
              "    </tr>\n",
              "    <tr>\n",
              "      <th>...</th>\n",
              "      <td>...</td>\n",
              "      <td>...</td>\n",
              "      <td>...</td>\n",
              "      <td>...</td>\n",
              "      <td>...</td>\n",
              "      <td>...</td>\n",
              "      <td>...</td>\n",
              "    </tr>\n",
              "    <tr>\n",
              "      <th>26808</th>\n",
              "      <td>Lakewood</td>\n",
              "      <td>Pierce</td>\n",
              "      <td>2022</td>\n",
              "      <td>BMW</td>\n",
              "      <td>IX</td>\n",
              "      <td>Battery Electric Vehicle (BEV)</td>\n",
              "      <td>1</td>\n",
              "    </tr>\n",
              "    <tr>\n",
              "      <th>26809</th>\n",
              "      <td>Lakewood</td>\n",
              "      <td>Pierce</td>\n",
              "      <td>2022</td>\n",
              "      <td>BMW</td>\n",
              "      <td>X5</td>\n",
              "      <td>Plug-in Hybrid Electric Vehicle (PHEV)</td>\n",
              "      <td>1</td>\n",
              "    </tr>\n",
              "    <tr>\n",
              "      <th>26810</th>\n",
              "      <td>Lakewood</td>\n",
              "      <td>Pierce</td>\n",
              "      <td>2022</td>\n",
              "      <td>FORD</td>\n",
              "      <td>TRANSIT</td>\n",
              "      <td>Battery Electric Vehicle (BEV)</td>\n",
              "      <td>1</td>\n",
              "    </tr>\n",
              "    <tr>\n",
              "      <th>26811</th>\n",
              "      <td>Lakewood</td>\n",
              "      <td>Pierce</td>\n",
              "      <td>2022</td>\n",
              "      <td>HYUNDAI</td>\n",
              "      <td>KONA ELECTRIC</td>\n",
              "      <td>Battery Electric Vehicle (BEV)</td>\n",
              "      <td>1</td>\n",
              "    </tr>\n",
              "    <tr>\n",
              "      <th>26812</th>\n",
              "      <td>Zillah</td>\n",
              "      <td>Yakima</td>\n",
              "      <td>2023</td>\n",
              "      <td>VOLKSWAGEN</td>\n",
              "      <td>ID.4</td>\n",
              "      <td>Battery Electric Vehicle (BEV)</td>\n",
              "      <td>1</td>\n",
              "    </tr>\n",
              "  </tbody>\n",
              "</table>\n",
              "<p>26813 rows × 7 columns</p>\n",
              "</div>\n",
              "    <div class=\"colab-df-buttons\">\n",
              "\n",
              "  <div class=\"colab-df-container\">\n",
              "    <button class=\"colab-df-convert\" onclick=\"convertToInteractive('df-98c07f94-2a32-4965-b87f-5d43f3bc4550')\"\n",
              "            title=\"Convert this dataframe to an interactive table.\"\n",
              "            style=\"display:none;\">\n",
              "\n",
              "  <svg xmlns=\"http://www.w3.org/2000/svg\" height=\"24px\" viewBox=\"0 -960 960 960\">\n",
              "    <path d=\"M120-120v-720h720v720H120Zm60-500h600v-160H180v160Zm220 220h160v-160H400v160Zm0 220h160v-160H400v160ZM180-400h160v-160H180v160Zm440 0h160v-160H620v160ZM180-180h160v-160H180v160Zm440 0h160v-160H620v160Z\"/>\n",
              "  </svg>\n",
              "    </button>\n",
              "\n",
              "  <style>\n",
              "    .colab-df-container {\n",
              "      display:flex;\n",
              "      gap: 12px;\n",
              "    }\n",
              "\n",
              "    .colab-df-convert {\n",
              "      background-color: #E8F0FE;\n",
              "      border: none;\n",
              "      border-radius: 50%;\n",
              "      cursor: pointer;\n",
              "      display: none;\n",
              "      fill: #1967D2;\n",
              "      height: 32px;\n",
              "      padding: 0 0 0 0;\n",
              "      width: 32px;\n",
              "    }\n",
              "\n",
              "    .colab-df-convert:hover {\n",
              "      background-color: #E2EBFA;\n",
              "      box-shadow: 0px 1px 2px rgba(60, 64, 67, 0.3), 0px 1px 3px 1px rgba(60, 64, 67, 0.15);\n",
              "      fill: #174EA6;\n",
              "    }\n",
              "\n",
              "    .colab-df-buttons div {\n",
              "      margin-bottom: 4px;\n",
              "    }\n",
              "\n",
              "    [theme=dark] .colab-df-convert {\n",
              "      background-color: #3B4455;\n",
              "      fill: #D2E3FC;\n",
              "    }\n",
              "\n",
              "    [theme=dark] .colab-df-convert:hover {\n",
              "      background-color: #434B5C;\n",
              "      box-shadow: 0px 1px 3px 1px rgba(0, 0, 0, 0.15);\n",
              "      filter: drop-shadow(0px 1px 2px rgba(0, 0, 0, 0.3));\n",
              "      fill: #FFFFFF;\n",
              "    }\n",
              "  </style>\n",
              "\n",
              "    <script>\n",
              "      const buttonEl =\n",
              "        document.querySelector('#df-98c07f94-2a32-4965-b87f-5d43f3bc4550 button.colab-df-convert');\n",
              "      buttonEl.style.display =\n",
              "        google.colab.kernel.accessAllowed ? 'block' : 'none';\n",
              "\n",
              "      async function convertToInteractive(key) {\n",
              "        const element = document.querySelector('#df-98c07f94-2a32-4965-b87f-5d43f3bc4550');\n",
              "        const dataTable =\n",
              "          await google.colab.kernel.invokeFunction('convertToInteractive',\n",
              "                                                    [key], {});\n",
              "        if (!dataTable) return;\n",
              "\n",
              "        const docLinkHtml = 'Like what you see? Visit the ' +\n",
              "          '<a target=\"_blank\" href=https://colab.research.google.com/notebooks/data_table.ipynb>data table notebook</a>'\n",
              "          + ' to learn more about interactive tables.';\n",
              "        element.innerHTML = '';\n",
              "        dataTable['output_type'] = 'display_data';\n",
              "        await google.colab.output.renderOutput(dataTable, element);\n",
              "        const docLink = document.createElement('div');\n",
              "        docLink.innerHTML = docLinkHtml;\n",
              "        element.appendChild(docLink);\n",
              "      }\n",
              "    </script>\n",
              "  </div>\n",
              "\n",
              "\n",
              "<div id=\"df-92d296e7-cefd-489e-8aed-8217e8fca6f3\">\n",
              "  <button class=\"colab-df-quickchart\" onclick=\"quickchart('df-92d296e7-cefd-489e-8aed-8217e8fca6f3')\"\n",
              "            title=\"Suggest charts\"\n",
              "            style=\"display:none;\">\n",
              "\n",
              "<svg xmlns=\"http://www.w3.org/2000/svg\" height=\"24px\"viewBox=\"0 0 24 24\"\n",
              "     width=\"24px\">\n",
              "    <g>\n",
              "        <path d=\"M19 3H5c-1.1 0-2 .9-2 2v14c0 1.1.9 2 2 2h14c1.1 0 2-.9 2-2V5c0-1.1-.9-2-2-2zM9 17H7v-7h2v7zm4 0h-2V7h2v10zm4 0h-2v-4h2v4z\"/>\n",
              "    </g>\n",
              "</svg>\n",
              "  </button>\n",
              "\n",
              "<style>\n",
              "  .colab-df-quickchart {\n",
              "      --bg-color: #E8F0FE;\n",
              "      --fill-color: #1967D2;\n",
              "      --hover-bg-color: #E2EBFA;\n",
              "      --hover-fill-color: #174EA6;\n",
              "      --disabled-fill-color: #AAA;\n",
              "      --disabled-bg-color: #DDD;\n",
              "  }\n",
              "\n",
              "  [theme=dark] .colab-df-quickchart {\n",
              "      --bg-color: #3B4455;\n",
              "      --fill-color: #D2E3FC;\n",
              "      --hover-bg-color: #434B5C;\n",
              "      --hover-fill-color: #FFFFFF;\n",
              "      --disabled-bg-color: #3B4455;\n",
              "      --disabled-fill-color: #666;\n",
              "  }\n",
              "\n",
              "  .colab-df-quickchart {\n",
              "    background-color: var(--bg-color);\n",
              "    border: none;\n",
              "    border-radius: 50%;\n",
              "    cursor: pointer;\n",
              "    display: none;\n",
              "    fill: var(--fill-color);\n",
              "    height: 32px;\n",
              "    padding: 0;\n",
              "    width: 32px;\n",
              "  }\n",
              "\n",
              "  .colab-df-quickchart:hover {\n",
              "    background-color: var(--hover-bg-color);\n",
              "    box-shadow: 0 1px 2px rgba(60, 64, 67, 0.3), 0 1px 3px 1px rgba(60, 64, 67, 0.15);\n",
              "    fill: var(--button-hover-fill-color);\n",
              "  }\n",
              "\n",
              "  .colab-df-quickchart-complete:disabled,\n",
              "  .colab-df-quickchart-complete:disabled:hover {\n",
              "    background-color: var(--disabled-bg-color);\n",
              "    fill: var(--disabled-fill-color);\n",
              "    box-shadow: none;\n",
              "  }\n",
              "\n",
              "  .colab-df-spinner {\n",
              "    border: 2px solid var(--fill-color);\n",
              "    border-color: transparent;\n",
              "    border-bottom-color: var(--fill-color);\n",
              "    animation:\n",
              "      spin 1s steps(1) infinite;\n",
              "  }\n",
              "\n",
              "  @keyframes spin {\n",
              "    0% {\n",
              "      border-color: transparent;\n",
              "      border-bottom-color: var(--fill-color);\n",
              "      border-left-color: var(--fill-color);\n",
              "    }\n",
              "    20% {\n",
              "      border-color: transparent;\n",
              "      border-left-color: var(--fill-color);\n",
              "      border-top-color: var(--fill-color);\n",
              "    }\n",
              "    30% {\n",
              "      border-color: transparent;\n",
              "      border-left-color: var(--fill-color);\n",
              "      border-top-color: var(--fill-color);\n",
              "      border-right-color: var(--fill-color);\n",
              "    }\n",
              "    40% {\n",
              "      border-color: transparent;\n",
              "      border-right-color: var(--fill-color);\n",
              "      border-top-color: var(--fill-color);\n",
              "    }\n",
              "    60% {\n",
              "      border-color: transparent;\n",
              "      border-right-color: var(--fill-color);\n",
              "    }\n",
              "    80% {\n",
              "      border-color: transparent;\n",
              "      border-right-color: var(--fill-color);\n",
              "      border-bottom-color: var(--fill-color);\n",
              "    }\n",
              "    90% {\n",
              "      border-color: transparent;\n",
              "      border-bottom-color: var(--fill-color);\n",
              "    }\n",
              "  }\n",
              "</style>\n",
              "\n",
              "  <script>\n",
              "    async function quickchart(key) {\n",
              "      const quickchartButtonEl =\n",
              "        document.querySelector('#' + key + ' button');\n",
              "      quickchartButtonEl.disabled = true;  // To prevent multiple clicks.\n",
              "      quickchartButtonEl.classList.add('colab-df-spinner');\n",
              "      try {\n",
              "        const charts = await google.colab.kernel.invokeFunction(\n",
              "            'suggestCharts', [key], {});\n",
              "      } catch (error) {\n",
              "        console.error('Error during call to suggestCharts:', error);\n",
              "      }\n",
              "      quickchartButtonEl.classList.remove('colab-df-spinner');\n",
              "      quickchartButtonEl.classList.add('colab-df-quickchart-complete');\n",
              "    }\n",
              "    (() => {\n",
              "      let quickchartButtonEl =\n",
              "        document.querySelector('#df-92d296e7-cefd-489e-8aed-8217e8fca6f3 button');\n",
              "      quickchartButtonEl.style.display =\n",
              "        google.colab.kernel.accessAllowed ? 'block' : 'none';\n",
              "    })();\n",
              "  </script>\n",
              "</div>\n",
              "\n",
              "  <div id=\"id_9069c25c-cded-44d8-84c9-bc3522aa7b5b\">\n",
              "    <style>\n",
              "      .colab-df-generate {\n",
              "        background-color: #E8F0FE;\n",
              "        border: none;\n",
              "        border-radius: 50%;\n",
              "        cursor: pointer;\n",
              "        display: none;\n",
              "        fill: #1967D2;\n",
              "        height: 32px;\n",
              "        padding: 0 0 0 0;\n",
              "        width: 32px;\n",
              "      }\n",
              "\n",
              "      .colab-df-generate:hover {\n",
              "        background-color: #E2EBFA;\n",
              "        box-shadow: 0px 1px 2px rgba(60, 64, 67, 0.3), 0px 1px 3px 1px rgba(60, 64, 67, 0.15);\n",
              "        fill: #174EA6;\n",
              "      }\n",
              "\n",
              "      [theme=dark] .colab-df-generate {\n",
              "        background-color: #3B4455;\n",
              "        fill: #D2E3FC;\n",
              "      }\n",
              "\n",
              "      [theme=dark] .colab-df-generate:hover {\n",
              "        background-color: #434B5C;\n",
              "        box-shadow: 0px 1px 3px 1px rgba(0, 0, 0, 0.15);\n",
              "        filter: drop-shadow(0px 1px 2px rgba(0, 0, 0, 0.3));\n",
              "        fill: #FFFFFF;\n",
              "      }\n",
              "    </style>\n",
              "    <button class=\"colab-df-generate\" onclick=\"generateWithVariable('electric_cars')\"\n",
              "            title=\"Generate code using this dataframe.\"\n",
              "            style=\"display:none;\">\n",
              "\n",
              "  <svg xmlns=\"http://www.w3.org/2000/svg\" height=\"24px\"viewBox=\"0 0 24 24\"\n",
              "       width=\"24px\">\n",
              "    <path d=\"M7,19H8.4L18.45,9,17,7.55,7,17.6ZM5,21V16.75L18.45,3.32a2,2,0,0,1,2.83,0l1.4,1.43a1.91,1.91,0,0,1,.58,1.4,1.91,1.91,0,0,1-.58,1.4L9.25,21ZM18.45,9,17,7.55Zm-12,3A5.31,5.31,0,0,0,4.9,8.1,5.31,5.31,0,0,0,1,6.5,5.31,5.31,0,0,0,4.9,4.9,5.31,5.31,0,0,0,6.5,1,5.31,5.31,0,0,0,8.1,4.9,5.31,5.31,0,0,0,12,6.5,5.46,5.46,0,0,0,6.5,12Z\"/>\n",
              "  </svg>\n",
              "    </button>\n",
              "    <script>\n",
              "      (() => {\n",
              "      const buttonEl =\n",
              "        document.querySelector('#id_9069c25c-cded-44d8-84c9-bc3522aa7b5b button.colab-df-generate');\n",
              "      buttonEl.style.display =\n",
              "        google.colab.kernel.accessAllowed ? 'block' : 'none';\n",
              "\n",
              "      buttonEl.onclick = () => {\n",
              "        google.colab.notebook.generateWithVariable('electric_cars');\n",
              "      }\n",
              "      })();\n",
              "    </script>\n",
              "  </div>\n",
              "\n",
              "    </div>\n",
              "  </div>\n"
            ],
            "application/vnd.google.colaboratory.intrinsic+json": {
              "type": "dataframe",
              "variable_name": "electric_cars",
              "summary": "{\n  \"name\": \"electric_cars\",\n  \"rows\": 26813,\n  \"fields\": [\n    {\n      \"column\": \"city\",\n      \"properties\": {\n        \"dtype\": \"category\",\n        \"num_unique_values\": 683,\n        \"samples\": [\n          \"Reardan\",\n          \"Roy\",\n          \"Brinnon\"\n        ],\n        \"semantic_type\": \"\",\n        \"description\": \"\"\n      }\n    },\n    {\n      \"column\": \"county\",\n      \"properties\": {\n        \"dtype\": \"category\",\n        \"num_unique_values\": 183,\n        \"samples\": [\n          \"Walla Walla\",\n          \"Wahkiakum\",\n          \"Mobile\"\n        ],\n        \"semantic_type\": \"\",\n        \"description\": \"\"\n      }\n    },\n    {\n      \"column\": \"model_year\",\n      \"properties\": {\n        \"dtype\": \"number\",\n        \"std\": 3,\n        \"min\": 1997,\n        \"max\": 2024,\n        \"num_unique_values\": 22,\n        \"samples\": [\n          2023,\n          2024,\n          2016\n        ],\n        \"semantic_type\": \"\",\n        \"description\": \"\"\n      }\n    },\n    {\n      \"column\": \"make\",\n      \"properties\": {\n        \"dtype\": \"category\",\n        \"num_unique_values\": 37,\n        \"samples\": [\n          \"MINI\",\n          \"VOLVO\",\n          \"HYUNDAI\"\n        ],\n        \"semantic_type\": \"\",\n        \"description\": \"\"\n      }\n    },\n    {\n      \"column\": \"model\",\n      \"properties\": {\n        \"dtype\": \"category\",\n        \"num_unique_values\": 127,\n        \"samples\": [\n          \"X5\",\n          \"KARMA\",\n          \"SANTA FE\"\n        ],\n        \"semantic_type\": \"\",\n        \"description\": \"\"\n      }\n    },\n    {\n      \"column\": \"electric_vehicle_type\",\n      \"properties\": {\n        \"dtype\": \"category\",\n        \"num_unique_values\": 2,\n        \"samples\": [\n          \"Plug-in Hybrid Electric Vehicle (PHEV)\",\n          \"Battery Electric Vehicle (BEV)\"\n        ],\n        \"semantic_type\": \"\",\n        \"description\": \"\"\n      }\n    },\n    {\n      \"column\": \"n_cars\",\n      \"properties\": {\n        \"dtype\": \"number\",\n        \"std\": 26,\n        \"min\": 1,\n        \"max\": 1514,\n        \"num_unique_values\": 212,\n        \"samples\": [\n          327,\n          39\n        ],\n        \"semantic_type\": \"\",\n        \"description\": \"\"\n      }\n    }\n  ]\n}"
            }
          },
          "metadata": {}
        }
      ]
    },
    {
      "source": [
        "## Task 2: Asking GPT a Question"
      ],
      "metadata": {
        "id": "65454beb-970f-4af6-a04c-798b9f665b6f"
      },
      "id": "65454beb-970f-4af6-a04c-798b9f665b6f",
      "cell_type": "markdown"
    },
    {
      "source": [
        "Let's start by sending a message to GPT and getting a response. For now, we won't worry about including any details about the dataset&mdash;it's the equivalent of asking \"is this microphone turned on?\".\n",
        "\n",
        "We'll also skip using langchain for now so you can see more clearly how the `openai` packages works."
      ],
      "metadata": {
        "id": "26fb43b1-9455-456e-a674-34b58e2faae2"
      },
      "id": "26fb43b1-9455-456e-a674-34b58e2faae2",
      "cell_type": "markdown"
    },
    {
      "source": [
        "### Types of Message\n",
        "\n",
        "There are three types of message, documented in the [Introduction](https://platform.openai.com/docs/guides/chat/introduction) to the Chat documentation. We'll use two of them here.\n",
        "\n",
        "- `system` messages describe the behavior of the AI assistant. If you don't know what you want, try \"You are a helpful assistant\".\n",
        "- `user` messages describe what you want the AI assistant to say. We'll cover examples of this today."
      ],
      "metadata": {
        "id": "aec4d331-7494-49c5-9d46-338e7b62b30a"
      },
      "cell_type": "markdown",
      "id": "aec4d331-7494-49c5-9d46-338e7b62b30a"
    },
    {
      "source": [
        "### Instructions"
      ],
      "metadata": {
        "id": "0134cdbf-1fc6-46fc-8075-6211db727739"
      },
      "id": "0134cdbf-1fc6-46fc-8075-6211db727739",
      "cell_type": "markdown"
    },
    {
      "source": [
        "Send a question to GPT and get a response.\n",
        "\n",
        "- Define the system message as follows and assign to `system_msg_test`.\n",
        "\n",
        "```\n",
        "\"\"\"You are a helpful assistant who understands data science.\n",
        " You write in a clear language that a ten year old can understand.\n",
        " You keep your answers brief.\"\"\".\n",
        "```\n",
        "    \n",
        "- Define the user message as follows and assign to `user_msg_test`.\n",
        "\n",
        "```\n",
        "\"Tell me some uses of GPT for data analysis.\"\n",
        "```\n",
        "\n",
        "- Create a message list from the system and user messages. Assign to `msgs_test`.\n",
        "- Send the messages to GPT. Assign to `rsps_test`."
      ],
      "metadata": {
        "id": "ec2a3334-8917-41cb-9300-3977744e702b"
      },
      "id": "ec2a3334-8917-41cb-9300-3977744e702b",
      "cell_type": "markdown"
    },
    {
      "source": [
        "<details>\n",
        "<summary>Code hints</summary>\n",
        "<p>\n",
        "        \n",
        "The `openai.ChatCompletion.create()` function expects the messages in the form of a list of dictionaries, each with a `role` and `content` element.\n",
        "        \n",
        "```\n",
        "messages = [\n",
        "    {\"role\": \"system\", \"content\": system_msg},\n",
        "    {\"role\": \"user\", \"content\": user_msg}\n",
        "]\n",
        "```\n",
        "\n",
        "</p>\n",
        "</details>"
      ],
      "metadata": {
        "id": "c6638162-655b-41b6-8436-ae57fab93fab"
      },
      "cell_type": "markdown",
      "id": "c6638162-655b-41b6-8436-ae57fab93fab"
    },
    {
      "source": [
        "import openai\n",
        "\n",
        "# Set your API key directly for testing purposes (not recommended for production)\n",
        "openai.api_key = \"\"\n",
        "\n",
        "# Define the system message. Assign to system_msg_test.\n",
        "system_msg_test = \"\"\"You are a helpful assistant who understands data science.\n",
        " You write in a clear language that a ten year old can understand.\n",
        " You keep your answers brief.\"\"\"\n",
        "# Define the user message. Assign to user_msg_test.\n",
        "user_msg_test = \"Tell me some uses of GPT for data analysis.\"\n",
        "\n",
        "# Create a message list from the system and user messages. Assign to msgs_test.\n",
        "msgs_test = [\n",
        "    {\"role\": \"system\", \"content\": system_msg_test},\n",
        "    {\"role\": \"user\", \"content\": user_msg_test}\n",
        "]\n",
        "\n",
        "# Send the messages to GPT. Assign to rsps_test.\n",
        "rsps_test = openai.ChatCompletion.create(\n",
        "    model=\"gpt-3.5-turbo\",\n",
        "    messages=msgs_test\n",
        ")"
      ],
      "metadata": {
        "id": "d0eb4f16-5a99-460d-a5ba-706b7ef0bbe7",
        "executionTime": 5321,
        "lastSuccessfullyExecutedCode": "# Define the system message. Assign to system_msg_test.\nsystem_msg_test = \"\"\"You are a helpful assistant who understands data science.\n You write in a clear language that a ten year old can understand.\n You keep your answers brief.\"\"\"\n\n# Define the user message. Assign to user_msg_test.\nuser_msg_test = \"Tell me some uses of GPT for data analysis.\"\n\n# Create a message list from the system and user messages. Assign to msgs_test.\nmsgs_test = [\n    {\"role\": \"system\", \"content\": system_msg_test},\n    {\"role\": \"user\", \"content\": user_msg_test}\n]\n\n# Send the messages to GPT. Assign to rsps_test.\nrsps_test = openai.ChatCompletion.create(\n    model=\"gpt-3.5-turbo\",\n    messages=msgs_test\n)",
        "executionCancelledAt": null,
        "lastExecutedAt": 1695344430262,
        "lastScheduledRunId": null
      },
      "id": "d0eb4f16-5a99-460d-a5ba-706b7ef0bbe7",
      "cell_type": "code",
      "execution_count": 13,
      "outputs": []
    },
    {
      "source": [
        "Now you need to explore the response. The result is a highly nested object. As well as the text response that we want, there's a lot of metadata. You'll print the whole thing so you can see the structure, and extract just the text content."
      ],
      "metadata": {
        "id": "7532c586-fa2e-45e5-9d07-2188b8f11f46"
      },
      "cell_type": "markdown",
      "id": "7532c586-fa2e-45e5-9d07-2188b8f11f46"
    },
    {
      "source": [
        "### Instructions\n",
        "\n",
        "Print the whole response and just the text content.\n",
        "\n",
        "- Print the whole response.\n",
        "- Print just the response's content."
      ],
      "metadata": {
        "id": "32bc4dab-01d7-4027-8e90-da027cd9bfd9"
      },
      "cell_type": "markdown",
      "id": "32bc4dab-01d7-4027-8e90-da027cd9bfd9"
    },
    {
      "source": [
        "<details>\n",
        "<summary>Code hints</summary>\n",
        "<p>\n",
        "        \n",
        "Buried within the response variable is the text we asked GPT to generate. Luckily, it's always in the same place.\n",
        "        \n",
        "```\n",
        "response[\"choices\"][0][\"message\"][\"content\"]\n",
        "```\n",
        "\n",
        "</p>\n",
        "</details>"
      ],
      "metadata": {
        "id": "ab282fd8-04dc-48b8-81ac-a5ffed9176b0"
      },
      "cell_type": "markdown",
      "id": "ab282fd8-04dc-48b8-81ac-a5ffed9176b0"
    },
    {
      "source": [
        "# Print the whole response\n",
        "print(\"The whole response\\n\")\n",
        "print(rsps_test)\n",
        "\n",
        "print(\"\\n\\n----\\n\\n\")\n",
        "\n",
        "# Print just the response's content\n",
        "print(\"Just the response's content\\n\")\n",
        "print(rsps_test[\"choices\"][0][\"message\"][\"content\"])"
      ],
      "metadata": {
        "executionCancelledAt": null,
        "executionTime": 12,
        "lastExecutedAt": 1695344434511,
        "lastScheduledRunId": null,
        "lastSuccessfullyExecutedCode": "# Print the whole response\nprint(\"The whole response\\n\")\nprint(rsps_test)\n\nprint(\"\\n\\n----\\n\\n\")\n\n# Print just the response's content\nprint(\"Just the response's content\\n\")\nprint(rsps_test[\"choices\"][0][\"message\"][\"content\"])",
        "outputsMetadata": {
          "0": {
            "height": 472,
            "type": "stream"
          }
        },
        "colab": {
          "base_uri": "https://localhost:8080/"
        },
        "id": "20279022-1034-4fc8-8c34-deb411dfeebd",
        "outputId": "a8358466-30b1-4f56-ac8b-97d6d471d7d2"
      },
      "cell_type": "code",
      "id": "20279022-1034-4fc8-8c34-deb411dfeebd",
      "execution_count": 14,
      "outputs": [
        {
          "output_type": "stream",
          "name": "stdout",
          "text": [
            "The whole response\n",
            "\n",
            "{\n",
            "  \"choices\": [\n",
            "    {\n",
            "      \"finish_reason\": \"stop\",\n",
            "      \"index\": 0,\n",
            "      \"logprobs\": null,\n",
            "      \"message\": {\n",
            "        \"content\": \"GPT can be used for text analysis, data summarization, generating insights from large amounts of data, and even for forecasting trends based on historical data.\",\n",
            "        \"role\": \"assistant\"\n",
            "      }\n",
            "    }\n",
            "  ],\n",
            "  \"created\": 1715174880,\n",
            "  \"id\": \"chatcmpl-9MbcuwlzftikeHb1gbr2K5kpsAkdP\",\n",
            "  \"model\": \"gpt-3.5-turbo-0125\",\n",
            "  \"object\": \"chat.completion\",\n",
            "  \"system_fingerprint\": null,\n",
            "  \"usage\": {\n",
            "    \"completion_tokens\": 31,\n",
            "    \"prompt_tokens\": 52,\n",
            "    \"total_tokens\": 83\n",
            "  }\n",
            "}\n",
            "\n",
            "\n",
            "----\n",
            "\n",
            "\n",
            "Just the response's content\n",
            "\n",
            "GPT can be used for text analysis, data summarization, generating insights from large amounts of data, and even for forecasting trends based on historical data.\n"
          ]
        }
      ]
    },
    {
      "source": [
        "## Task 3: Asking a Question About the Dataset"
      ],
      "metadata": {
        "id": "2f3f8b8b-5ef6-412a-a432-74dd103c141c"
      },
      "cell_type": "markdown",
      "id": "2f3f8b8b-5ef6-412a-a432-74dd103c141c"
    },
    {
      "source": [
        "Now we know that GPT is working, we can start asking questions about data analysis. Because we have details of our dataset, we can pass these in to our prompt to improve the quality of the mesages we get back.\n",
        "\n",
        "Another change that we're going to make is to use the `langchain` package, which provides a convenience layer on top of the `openai` package."
      ],
      "metadata": {
        "id": "e58127a5-39d4-491e-8f31-7e90f1da6e8e"
      },
      "cell_type": "markdown",
      "id": "e58127a5-39d4-491e-8f31-7e90f1da6e8e"
    },
    {
      "source": [
        "### Why should we use LangChain?\n",
        "\n",
        "The code in the previous task used complicated nested objects in two places (the list of dictionaries for the message, and the dictionary of lists and dictionaries for the response). This sort of object is common in web application development, but not in data analysis, where rectangular data (pandas DataFrames and SQL tables) is the more common.\n",
        "\n",
        "One of the advantages of LangChain is that it simplifies the code for some tasks, letting you avoid messing about with too many square brackets and curly braces as you navigate these deep objects.\n",
        "\n",
        "Secondly, if you want to swap GPT for a different model at a later date (as you might in a corporate setting), it can be easier to do so if you use the `langchain` package rather than the `openai` package directly."
      ],
      "metadata": {
        "id": "2a7a0009-54b6-42f6-a98a-317168b85053"
      },
      "cell_type": "markdown",
      "id": "2a7a0009-54b6-42f6-a98a-317168b85053"
    },
    {
      "source": [
        "### LangChain message types\n",
        "\n",
        "The LangChain message types are names slightly differently from the OpenAI message types.\n",
        "\n",
        "- `SystemMessage` is the equivalent of OpenAI's `system` message.\n",
        "- `HumanMessage` is the equivalent of OpenAI's `user` message."
      ],
      "metadata": {
        "id": "6b38d1fa-e17f-48c6-b7c8-428c491fcd44"
      },
      "cell_type": "markdown",
      "id": "6b38d1fa-e17f-48c6-b7c8-428c491fcd44"
    },
    {
      "source": [
        "### Instructions\n",
        "\n",
        "Create a prompt that includes dataset details.\n",
        "\n",
        "- _Read the description of the dataset that is provided._\n",
        "- Create a task for the AI. Assign to `suggest_questions`.\n",
        "    - Use the text `\"Suggest some data analysis questions that could be answered with this dataset.\"`.\n",
        "- Concatenate the dataset description and the request. Assign to `msgs_suggest_questions`.\n",
        "    - The first message is a system message with the content `\"You are a data analysis expert.\"`.\n",
        "    - The second message is a human message with `dataset_description` and `suggest_questions` concatenated with two line breaks in between."
      ],
      "metadata": {
        "id": "a852a0d9-5a94-4611-89af-30c401b3d398"
      },
      "cell_type": "markdown",
      "id": "a852a0d9-5a94-4611-89af-30c401b3d398"
    },
    {
      "source": [
        "# A description of the dataset\n",
        "dataset_description = \"\"\"\n",
        "You have a dataset about electric cars registered in Washington state, USA in 2020. It is available as a pandas DataFrame named `electric_cars`.\n",
        "\n",
        "Each row in the dataset represents the count of the number of cars registered within a city, for a particular model.\n",
        "\n",
        "The dataset contains the following columns.\n",
        "\n",
        "- `city` (character): The city in which the registered owner resides.\n",
        "- `county` (character): The county in which the registered owner resides.\n",
        "- `model_year` (integer): The [model year](https://en.wikipedia.org/wiki/Model_year#United_States_and_Canada) of the car.\n",
        "- `make` (character): The manufacturer of the car.\n",
        "- `model` (character): The model of the car.\n",
        "- `electric_vehicle_type` (character): Either \"Plug-in Hybrid Electric Vehicle (PHEV)\" or \"Battery Electric Vehicle (BEV)\".\n",
        "- `n_cars` (integer): The count of the number of vehicles registered.\n",
        "\"\"\"\n",
        "\n",
        "# Create a task for the AI. Assign to suggest_questions.\n",
        "suggest_questions = \"Suggest some data analysis questions that could be answered with this dataset.\"\n",
        "\n",
        "# Concatenate the dataset description and the request. Assign to msgs_suggest_questions.\n",
        "msgs_suggest_questions = [\n",
        "    SystemMessage(content= \"You are a data analysis expert.\"),\n",
        "    HumanMessage(content= f\"{dataset_description}\\n\\n{suggest_questions}\")\n",
        "\n",
        "]"
      ],
      "metadata": {
        "executionCancelledAt": null,
        "executionTime": 10,
        "lastExecutedAt": 1695344440684,
        "lastScheduledRunId": null,
        "lastSuccessfullyExecutedCode": "# A description of the dataset\ndataset_description = \"\"\"\nYou have a dataset about electric cars registered in Washington state, USA in 2020. It is available as a pandas DataFrame named `electric_cars`.\n\nEach row in the dataset represents the count of the number of cars registered within a city, for a particular model.\n\nThe dataset contains the following columns.\n\n- `city` (character): The city in which the registered owner resides.\n- `county` (character): The county in which the registered owner resides.\n- `model_year` (integer): The [model year](https://en.wikipedia.org/wiki/Model_year#United_States_and_Canada) of the car.\n- `make` (character): The manufacturer of the car.\n- `model` (character): The model of the car.\n- `electric_vehicle_type` (character): Either \"Plug-in Hybrid Electric Vehicle (PHEV)\" or \"Battery Electric Vehicle (BEV)\".\n- `n_cars` (integer): The count of the number of vehicles registered.\n\"\"\"\n\n# Create a task for the AI. Assign to suggest_questions.\nsuggest_questions = \"Suggest some data analysis questions that could be answered with this dataset.\"\n\n# Concatenate the dataset description and the request. Assign to msgs_suggest_questions.\nmsgs_suggest_questions = [\n    SystemMessage(content=\"You are a data analysis expert.\"),\n    HumanMessage(content=f\"{dataset_description}\\n\\n{suggest_questions}\")\n]",
        "id": "858797d3-ca37-4952-9a10-1f17b6703df0"
      },
      "cell_type": "code",
      "id": "858797d3-ca37-4952-9a10-1f17b6703df0",
      "execution_count": 22,
      "outputs": []
    },
    {
      "source": [
        "### Instructions\n",
        "\n",
        "- Create a `ChatOpenAI` object. Assign to `chat`.\n",
        "- Pass your message to GPT. Assign to `rsps_suggest_questions`.\n",
        "- Print the response object and the contents of the response.\n",
        "- Print the type of the response"
      ],
      "metadata": {
        "id": "539f085a-abc2-48c1-b77a-f655a1441d8e"
      },
      "cell_type": "markdown",
      "id": "539f085a-abc2-48c1-b77a-f655a1441d8e"
    },
    {
      "source": [
        "\n",
        "# Create a ChatOpenAI object. Assign to chat.\n",
        "chat = ChatOpenAI(openai_api_key=\"\") # Your API Keys go here\n",
        "\n",
        "\n",
        "# Pass your message to GPT. Assign to rsps_suggest_questions.\n",
        "rsps_suggest_questions = chat(msgs_suggest_questions)\n",
        "\n",
        "# Print the response\n",
        "print(\"The whole response\\n\")\n",
        "print(rsps_suggest_questions)\n",
        "\n",
        "print(\"\\n----\\n\")\n",
        "\n",
        "# Print just the response's content\n",
        "print(\"Just the response's content\\n\")\n",
        "print(rsps_suggest_questions.content)\n",
        "\n",
        "print(\"\\n----\\n\")\n",
        "\n",
        "# Print the type of the response\n",
        "print(\"The type of the response\\n\")\n",
        "print(type(rsps_suggest_questions))"
      ],
      "metadata": {
        "executionCancelledAt": null,
        "executionTime": 11860,
        "lastExecutedAt": 1695344455891,
        "lastScheduledRunId": null,
        "lastSuccessfullyExecutedCode": "# Create a ChatOpenAI object. Assign to chat.\nchat = ChatOpenAI()\n\n# Pass your message to GPT. Assign to response_what_is_llm.\nrsps_suggest_questions = chat(msgs_suggest_questions)\n\n# Print the response\nprint(rsps_suggest_questions)\n\nprint(\"\\n----\\n\")\n\n# Print the response's content\nprint(rsps_suggest_questions.content)\n\nprint(\"\\n----\\n\")\n\n# Print the type of the response\nprint(type(rsps_suggest_questions))",
        "outputsMetadata": {
          "0": {
            "height": 472,
            "type": "stream"
          }
        },
        "colab": {
          "base_uri": "https://localhost:8080/"
        },
        "id": "93bb457c-134f-4349-81ae-c8c6c6bc1d30",
        "outputId": "e93bdda4-d0c2-4ad8-d365-9f095dc4a697"
      },
      "cell_type": "code",
      "id": "93bb457c-134f-4349-81ae-c8c6c6bc1d30",
      "execution_count": 23,
      "outputs": [
        {
          "output_type": "stream",
          "name": "stdout",
          "text": [
            "The whole response\n",
            "\n",
            "content='Here are some data analysis questions that could be answered using the provided dataset `electric_cars`:\\n\\n1. What is the distribution of electric vehicle types (PHEV vs. BEV) in Washington state in 2020?\\n2. Which city had the highest number of electric cars registered in 2020?\\n3. What are the top 5 most popular electric car models registered in Washington state in 2020?\\n4. How does the distribution of electric car models vary by county in Washington state?\\n5. What is the average number of electric cars registered per city in Washington state in 2020?\\n6. Is there a correlation between the model year of electric cars and the number of cars registered?\\n7. Which manufacturer had the highest number of electric cars registered in Washington state in 2020?\\n8. Are there any cities where only one type of electric vehicle (PHEV or BEV) is predominantly registered?\\n9. How does the distribution of electric car models differ between PHEVs and BEVs?\\n10. Is there a relationship between the county population size and the number of electric cars registered?\\n\\nThese questions can help uncover patterns, trends, and insights related to electric vehicle adoption in Washington state in 2020.' additional_kwargs={} example=False\n",
            "\n",
            "----\n",
            "\n",
            "Just the response's content\n",
            "\n",
            "Here are some data analysis questions that could be answered using the provided dataset `electric_cars`:\n",
            "\n",
            "1. What is the distribution of electric vehicle types (PHEV vs. BEV) in Washington state in 2020?\n",
            "2. Which city had the highest number of electric cars registered in 2020?\n",
            "3. What are the top 5 most popular electric car models registered in Washington state in 2020?\n",
            "4. How does the distribution of electric car models vary by county in Washington state?\n",
            "5. What is the average number of electric cars registered per city in Washington state in 2020?\n",
            "6. Is there a correlation between the model year of electric cars and the number of cars registered?\n",
            "7. Which manufacturer had the highest number of electric cars registered in Washington state in 2020?\n",
            "8. Are there any cities where only one type of electric vehicle (PHEV or BEV) is predominantly registered?\n",
            "9. How does the distribution of electric car models differ between PHEVs and BEVs?\n",
            "10. Is there a relationship between the county population size and the number of electric cars registered?\n",
            "\n",
            "These questions can help uncover patterns, trends, and insights related to electric vehicle adoption in Washington state in 2020.\n",
            "\n",
            "----\n",
            "\n",
            "The type of the response\n",
            "\n",
            "<class 'langchain.schema.messages.AIMessage'>\n"
          ]
        }
      ]
    },
    {
      "source": [
        "## Task 4: Hold a conversation with GPT"
      ],
      "metadata": {
        "id": "5606312e-389f-4762-a324-f64c019247cf"
      },
      "cell_type": "markdown",
      "id": "5606312e-389f-4762-a324-f64c019247cf"
    },
    {
      "source": [
        "Notice that the response from GPT was a dictionary-like object. The most useful part of this is the `.content` element, which contains the text response to your prompt.\n",
        "\n",
        "While a single prompt and response can be useful, often you want to have a longer conversation with GPT. In this case, you can pass previous messages so that GPT can \"remember\" what was said before."
      ],
      "metadata": {
        "id": "c9d8a719-267a-41bb-9c4a-da6fd3d670b2"
      },
      "cell_type": "markdown",
      "id": "c9d8a719-267a-41bb-9c4a-da6fd3d670b2"
    },
    {
      "source": [
        "### AI messages\n",
        "\n",
        "The response from GPT had type `AIMessage`. By distinguishing `AIMessage`s from the `HumanMessage`s, you can tell who said what in a conversation with the AI."
      ],
      "metadata": {
        "id": "76dde704-9fe1-4b5c-9ad3-5c15dc3fac2e"
      },
      "cell_type": "markdown",
      "id": "76dde704-9fe1-4b5c-9ad3-5c15dc3fac2e"
    },
    {
      "source": [
        "### Displaying Markdown content\n",
        "\n",
        "When GPT generates code as an output, it if often formatted as a Markdown code block inside triple backticks. You can display Markdown output more beautifully in Workspace by swapping `print()` for the `display()` and `Markdown()` functions.\n",
        "\n",
        "```py\n",
        "display(Markdown(your_markdown_text))\n",
        "```"
      ],
      "metadata": {
        "id": "09f45997-69d0-4e6b-9766-af82d482c28e"
      },
      "cell_type": "markdown",
      "id": "09f45997-69d0-4e6b-9766-af82d482c28e"
    },
    {
      "source": [
        "### Instructions\n",
        "\n",
        "Append another prompt to the conversation and chat with GPT again.\n",
        "\n",
        "- Append the response and a new message to the previous messages. Assign to `msgs_python_top_models`.\n",
        "- Pass your message to GPT. Assign to `rsps_python_top_models`.\n",
        "- Display the response's Markdown content."
      ],
      "metadata": {
        "id": "43db3752-ff50-420e-89c9-0a2b88dbe848"
      },
      "cell_type": "markdown",
      "id": "43db3752-ff50-420e-89c9-0a2b88dbe848"
    },
    {
      "source": [
        "# Append the response and a new message to the previous messages.\n",
        "# Assign to msgs_python_top_models.\n",
        "msgs_python_top_models = msgs_suggest_questions + [\n",
        "     rsps_suggest_questions,\n",
        "     HumanMessage(content= \"Write Python code to find the make/model combinations of electric car in Washington state.\")\n",
        "]\n",
        "\n",
        "# Pass your message to GPT. Assign to rsps_python_top_models.\n",
        "rsps_suggest_questions = chat(msgs_python_top_models)\n",
        "\n",
        "# Display the response's Markdown content\n",
        "display(Markdown(rsps_suggest_questions.content))"
      ],
      "metadata": {
        "executionCancelledAt": null,
        "executionTime": 8711,
        "lastExecutedAt": 1695344476311,
        "lastScheduledRunId": null,
        "lastSuccessfullyExecutedCode": "# Append the response and a new message to the previous messages. \n# Assign to msgs_python_top_models.\nmsgs_python_top_models = msgs_suggest_questions + [\n    rsps_suggest_questions,\n    HumanMessage(content=\"Write some Python code to find the top 5 most popular make/model combinations of electric car in Washington.\")\n]\n\n# Pass your message to GPT. Assign to rsps_python_top_models.\nrsps_python_top_models = chat(msgs_python_top_models)\n\n# Display the response's Markdown content\ndisplay(Markdown(rsps_python_top_models.content))",
        "colab": {
          "base_uri": "https://localhost:8080/",
          "height": 312
        },
        "id": "9f9d287f-9c19-4c7b-b534-2de5a4ac3b18",
        "outputId": "38b672ad-0ee9-4475-9831-7fc2ec303f1c"
      },
      "cell_type": "code",
      "id": "9f9d287f-9c19-4c7b-b534-2de5a4ac3b18",
      "execution_count": 25,
      "outputs": [
        {
          "output_type": "display_data",
          "data": {
            "text/plain": [
              "<IPython.core.display.Markdown object>"
            ],
            "text/markdown": "You can find the unique make/model combinations of electric cars in Washington state using the following Python code snippet:\n\n```python\n# Filter the dataset to include only electric cars\nelectric_cars = electric_cars[electric_cars['electric_vehicle_type'].str.contains('Electric Vehicle', case=False)]\n\n# Get unique make/model combinations\nmake_model_combinations = electric_cars.groupby(['make', 'model']).size().reset_index(name='count')\n\n# Display the unique make/model combinations\nprint(make_model_combinations[['make', 'model']])\n```\n\nIn this code:\n1. We first filter the dataset to include only electric cars by checking if the 'electric_vehicle_type' column contains the phrase \"Electric Vehicle\" (case insensitive).\n2. Then, we group the data by 'make' and 'model' columns and count the number of occurrences.\n3. Finally, we display the unique make/model combinations along with the count of each combination.\n\nThis code will provide you with a list of unique make/model combinations of electric cars registered in Washington state."
          },
          "metadata": {}
        }
      ]
    },
    {
      "source": [
        "## Task 5: Execute the Code Provided by GPT"
      ],
      "metadata": {
        "id": "275758d7-5f0d-4b75-a61f-24c588a84bcb"
      },
      "cell_type": "markdown",
      "id": "275758d7-5f0d-4b75-a61f-24c588a84bcb"
    },
    {
      "source": [
        "You just asked GPT to write some code for you. Next you need to see if it worked, and fix it if it didn't.\n",
        "\n",
        "This is a standard workflow for interacting with generative AI: the AI acts as a junior data analyst who writes the code, then you act as the boss who reviews the work."
      ],
      "metadata": {
        "id": "8d27c93f-255c-4b90-b2e8-f38b7a5dcad9"
      },
      "cell_type": "markdown",
      "id": "8d27c93f-255c-4b90-b2e8-f38b7a5dcad9"
    },
    {
      "source": [
        "### Instructions\n",
        "\n",
        "Review the work of your AI assistant.\n",
        "\n",
        "- Copy and paste the code generated by GPT into the next code cell and run it.\n",
        "- _Look at the result. Do you think it is correct?_*\n",
        "- If the code threw an error or gave a wrong answer, use the Workspace AI Assistant (also powered by GPT!) to fix and explain the code.\n",
        "\n",
        "*During testing of this code-along project, GPT sometimes wrote incorrect code when using `.sum()`. Double-check those function calls."
      ],
      "metadata": {
        "id": "259bf0d5-6c65-4aef-8a40-72c84dba1f1e"
      },
      "cell_type": "markdown",
      "id": "259bf0d5-6c65-4aef-8a40-72c84dba1f1e"
    },
    {
      "source": [
        "# Paste the code generated by GPT and run it\n",
        "# Filter the dataset to include only electric cars\n",
        "electric_cars = electric_cars[electric_cars['electric_vehicle_type'].str.contains('Electric Vehicle', case=False)]\n",
        "\n",
        "# Get unique make/model combinations\n",
        "make_model_combinations = electric_cars.groupby(['make', 'model']).size().reset_index(name='count')\n",
        "\n",
        "# Display the unique make/model combinations\n",
        "print(make_model_combinations[['make', 'model']])\n"
      ],
      "metadata": {
        "executionCancelledAt": null,
        "executionTime": 48,
        "lastExecutedAt": 1695346948895,
        "lastScheduledRunId": null,
        "lastSuccessfullyExecutedCode": "# Paste the code generated by GPT and run it\n\n# GPT gave me a wrong answer! \n# It tried to filter the rows becaues it didn't understand the difference between a state and a county in this context\n# The .groupby().sum() code is also wrong.\n\n# # Filter the dataset for electric cars in Washington state\n# washington_cars = electric_cars[electric_cars['county'] == 'Washington']\n\n# # Group the dataset by make and model, and sum the number of cars for each combination\n# make_model_counts = washington_cars.groupby(['make', 'model']).sum('n_cars').reset_index()\n\n# # Sort the make/model combinations by the number of cars in descending order\n# sorted_make_model_counts = make_model_counts.sort_values('n_cars', ascending=False)\n\n# # Get the top 5 most popular make/model combinations\n# top_5_make_model = sorted_make_model_counts.head(5)\n\n# # Print the results\n# print(top_5_make_model)\n",
        "outputsMetadata": {
          "0": {
            "height": 154,
            "type": "stream"
          }
        },
        "colab": {
          "base_uri": "https://localhost:8080/"
        },
        "id": "37ec0b93-8a67-4f02-9de0-0be59127f70e",
        "outputId": "1368499f-29d1-42e9-9f23-1cd9f69dd4d8"
      },
      "cell_type": "code",
      "id": "37ec0b93-8a67-4f02-9de0-0be59127f70e",
      "execution_count": 26,
      "outputs": [
        {
          "output_type": "stream",
          "name": "stdout",
          "text": [
            "                     make   model\n",
            "0              ALFA ROMEO  TONALE\n",
            "1                    AUDI      A3\n",
            "2                    AUDI      A7\n",
            "3                    AUDI    A8 E\n",
            "4                    AUDI  E-TRON\n",
            "..                    ...     ...\n",
            "122                 VOLVO     V60\n",
            "123                 VOLVO    XC40\n",
            "124                 VOLVO    XC60\n",
            "125                 VOLVO    XC90\n",
            "126  WHEEGO ELECTRIC CARS  WHEEGO\n",
            "\n",
            "[127 rows x 2 columns]\n"
          ]
        }
      ]
    },
    {
      "source": [
        "## Task 6: Continue the Conversation to Create a Plot"
      ],
      "metadata": {
        "id": "f64b52c8-324f-40bd-826d-2b10993267b2"
      },
      "cell_type": "markdown",
      "id": "f64b52c8-324f-40bd-826d-2b10993267b2"
    },
    {
      "source": [
        "Doing more analysis with GPT assistance is simply a case of continuing the conversation by appending new `HumanMessage` prompts to the message list, and calling the `chat()` function.\n",
        "\n",
        "The output from GPT is random, but when doing data analysis this isn't always desirable since you'd like your results to be reproducible. With large language models, the amount of randomness can be controled with a parameter known as \"temperature\".\n",
        "\n",
        "- `temperature` controls the randomness of the response. It ranges from `0` to `2` with zero meaning minimal randomness (to make it easier to reproduce results) and two meaning maximum randomness (often gives weird responses). If you use the OpenAI API directly, the default is `1`, but using LangChain reduces the default value to `0.7`."
      ],
      "metadata": {
        "id": "09f33e51-9614-4e11-8a27-ff735c184cec"
      },
      "cell_type": "markdown",
      "id": "09f33e51-9614-4e11-8a27-ff735c184cec"
    },
    {
      "source": [
        "### Instructions\n",
        "\n",
        "- Create a new OpenAI chat object with temperature set to zero. Assign to `chat0`."
      ],
      "metadata": {
        "id": "043595b5-1d29-4aac-a428-81703e1300d1"
      },
      "cell_type": "markdown",
      "id": "043595b5-1d29-4aac-a428-81703e1300d1"
    },
    {
      "source": [
        "# Create a new OpenAI chat object with temperature set to zero. Assign to chat0.\n",
        "chat0= ChatOpenAI(openai_api_key=\"\",temperature=0) #Include your API Keys here"
      ],
      "metadata": {
        "executionCancelledAt": null,
        "executionTime": 10,
        "lastExecutedAt": 1695345996293,
        "lastScheduledRunId": null,
        "lastSuccessfullyExecutedCode": "# Create a new OpenAI chat object with temperature set to zero. Assign to chat0.\nchat0 = ChatOpenAI(temperature=0)",
        "id": "649a18e2-cc07-47fb-ab80-735df0366743"
      },
      "cell_type": "code",
      "id": "649a18e2-cc07-47fb-ab80-735df0366743",
      "execution_count": 28,
      "outputs": []
    },
    {
      "source": [
        "### Instructions\n",
        "\n",
        "- Work through the previous conversation flow again, appending the previous response and a new request for Python code to draw a bar plot of the total count of electric cars by model year, with bars colored by electric vehicle type.\n",
        "    - The solution asks for Plotly Express code, but you can pick any Python data viz package you prefer."
      ],
      "metadata": {
        "id": "af17e508-a08e-4b5e-bc6f-288065c395f9"
      },
      "cell_type": "markdown",
      "id": "af17e508-a08e-4b5e-bc6f-288065c395f9"
    },
    {
      "source": [
        "# Ask GPT for code for a bar plot, as detailed in the instructions\n",
        "msgs_python_plot = msgs_python_top_models + [\n",
        "    rsps_suggest_questions,\n",
        "    HumanMessage(content= \"Write Python code to draw a bar plot of the total count of electric cars by model year, with bars colored by electric vehicle type.\")\n",
        "]\n",
        "rsps_python_plot = chat0(msgs_python_plot)\n",
        "\n",
        "# Display the response's Markdown content\n",
        "display(Markdown(rsps_python_plot.content))"
      ],
      "metadata": {
        "executionCancelledAt": null,
        "executionTime": 14955,
        "lastExecutedAt": 1695346214204,
        "lastScheduledRunId": null,
        "lastSuccessfullyExecutedCode": "# Ask GPT for code for a bar plot, as detailed in the instructions\nmsgs_python_plot = msgs_python_top_models + [\n    rsps_python_top_models,\n    HumanMessage(content=\"Write some Python code to draw a bar plot of the total count of electric cars by model year, with bars colored by electric vehicle type. Use the Plotly Express package.\")\n]\n\nrsps_python_plot = chat0(msgs_python_plot)\n\ndisplay(Markdown(rsps_python_plot.content))",
        "colab": {
          "base_uri": "https://localhost:8080/",
          "height": 503
        },
        "id": "ed9bf9e6-9fac-4703-bcdb-4a327ba62724",
        "outputId": "88d49a33-6268-4e7c-ad77-a71eddca67db"
      },
      "cell_type": "code",
      "id": "ed9bf9e6-9fac-4703-bcdb-4a327ba62724",
      "execution_count": 31,
      "outputs": [
        {
          "output_type": "display_data",
          "data": {
            "text/plain": [
              "<IPython.core.display.Markdown object>"
            ],
            "text/markdown": "You can create a bar plot of the total count of electric cars by model year, with bars colored by electric vehicle type using the following Python code snippet:\n\n```python\nimport matplotlib.pyplot as plt\nimport seaborn as sns\n\n# Filter the dataset to include only electric cars\nelectric_cars = electric_cars[electric_cars['electric_vehicle_type'].str.contains('Electric Vehicle', case=False)]\n\n# Group by model year and electric vehicle type to get the total count\ncount_by_year_type = electric_cars.groupby(['model_year', 'electric_vehicle_type'])['n_cars'].sum().reset_index()\n\n# Create the bar plot\nplt.figure(figsize=(12, 6))\nsns.barplot(x='model_year', y='n_cars', hue='electric_vehicle_type', data=count_by_year_type, palette='Set1')\nplt.title('Total Count of Electric Cars by Model Year')\nplt.xlabel('Model Year')\nplt.ylabel('Total Count')\nplt.legend(title='Electric Vehicle Type')\nplt.show()\n```\n\nIn this code:\n1. We first filter the dataset to include only electric cars by checking if the 'electric_vehicle_type' column contains the phrase \"Electric Vehicle\" (case insensitive).\n2. Then, we group the data by 'model_year' and 'electric_vehicle_type' columns and sum the counts of electric cars.\n3. We use seaborn to create a bar plot where the x-axis represents the model year, the y-axis represents the total count of electric cars, and the bars are colored by electric vehicle type.\n4. Finally, we customize the plot with a title, labels, and a legend.\n\nThis code will generate a bar plot showing the total count of electric cars by model year, with bars colored by electric vehicle type."
          },
          "metadata": {}
        }
      ]
    },
    {
      "source": [
        "### Instructions\n",
        "\n",
        "To see how much variation there is with temperature set to zero, ask GPT for the same thing again.\n",
        "\n",
        "- Call GPT again with the same message list and display the response.\n",
        "- _Look at the response content. How close is it to the previous response content?_"
      ],
      "metadata": {
        "id": "23cde113-6e53-4681-bec6-cfdc8d7d2de0"
      },
      "cell_type": "markdown",
      "id": "23cde113-6e53-4681-bec6-cfdc8d7d2de0"
    },
    {
      "source": [
        "# Call GPT again with the same message list and display the response\n",
        "import matplotlib.pyplot as plt\n",
        "import seaborn as sns\n",
        "\n",
        "# Filter the dataset to include only electric cars\n",
        "electric_cars = electric_cars[electric_cars['electric_vehicle_type'].str.contains('Electric Vehicle', case=False)]\n",
        "\n",
        "# Group by model year and electric vehicle type to get the total count\n",
        "count_by_year_type = electric_cars.groupby(['model_year', 'electric_vehicle_type'])['n_cars'].sum().reset_index()\n",
        "\n",
        "# Create the bar plot\n",
        "plt.figure(figsize=(12, 6))\n",
        "sns.barplot(x='model_year', y='n_cars', hue='electric_vehicle_type', data=count_by_year_type, palette='Set1')\n",
        "plt.title('Total Count of Electric Cars by Model Year')\n",
        "plt.xlabel('Model Year')\n",
        "plt.ylabel('Total Count')\n",
        "plt.legend(title='Electric Vehicle Type')\n",
        "plt.show()\n"
      ],
      "metadata": {
        "executionCancelledAt": null,
        "executionTime": 10542,
        "lastExecutedAt": 1695346401379,
        "lastScheduledRunId": null,
        "lastSuccessfullyExecutedCode": "# Call GPT again with the same message list and display the response\nrsps_python_plot1 = chat0(msgs_python_plot)\n\ndisplay(Markdown(rsps_python_plot1.content))",
        "colab": {
          "base_uri": "https://localhost:8080/",
          "height": 564
        },
        "id": "a039f5eb-75a6-4cec-9d5f-a8bfa2afbff8",
        "outputId": "e14f9c0f-011f-466a-ca06-79967daddbde"
      },
      "cell_type": "code",
      "id": "a039f5eb-75a6-4cec-9d5f-a8bfa2afbff8",
      "execution_count": 32,
      "outputs": [
        {
          "output_type": "display_data",
          "data": {
            "text/plain": [
              "<Figure size 1200x600 with 1 Axes>"
            ],
            "image/png": "[encoded data removed]"
          },
          "metadata": {}
        }
      ]
    },
    {
      "source": [
        "## Task 7: Execute the Code Provided by GPT to See Your Plot"
      ],
      "metadata": {
        "id": "10fa57fd-5901-421c-bfd0-04cdb3bbfea4"
      },
      "cell_type": "markdown",
      "id": "10fa57fd-5901-421c-bfd0-04cdb3bbfea4"
    },
    {
      "source": [
        "Setting temperature to zero removed all randomness so you got the same output twice. That makes your workflow more reproducible.\n",
        "\n",
        "The final task is to see the plot. As before, remember that GPT is only your assistant and you are the boss. Check the code and its output to make sure that you really have what you want."
      ],
      "metadata": {
        "id": "13fc700e-2633-4c1b-8fa6-635499c480dd"
      },
      "cell_type": "markdown",
      "id": "13fc700e-2633-4c1b-8fa6-635499c480dd"
    },
    {
      "source": [
        "### Instructions\n",
        "\n",
        "Run the code and check that the plot is correct.\n",
        "\n",
        "- Run the bar plot code generated by GPT.\n",
        "- _Check that the output is suitable. If not, try changing your prompt in the previous task to improve the output (this is prompt engineering, which you'll see more of in the next code-along project in the series)._"
      ],
      "metadata": {
        "id": "98e9521e-b190-4997-ab87-e55a4cd1d402"
      },
      "cell_type": "markdown",
      "id": "98e9521e-b190-4997-ab87-e55a4cd1d402"
    },
    {
      "source": [
        "# Paste the code generated by GPT and run it\n"
      ],
      "metadata": {
        "executionCancelledAt": null,
        "executionTime": 56,
        "lastExecutedAt": 1695346975494,
        "lastScheduledRunId": null,
        "lastSuccessfullyExecutedCode": "# Paste the code generated by GPT and run it\n\n# This time GPT gave a correct answer\n\nimport plotly.express as px\n\n# Group the dataset by model year and electric vehicle type, and sum the number of cars for each combination\nmodel_year_counts = electric_cars.groupby(['model_year', 'electric_vehicle_type']).sum('n_cars').reset_index()\n\n# Plot the bar plot using Plotly Express\nfig = px.bar(model_year_counts, x='model_year', y='n_cars', color='electric_vehicle_type',\n             title='Total Count of Electric Cars by Model Year',\n             labels={'model_year': 'Model Year', 'n_cars': 'Count of Electric Cars'},\n             color_discrete_map={'Plug-in Hybrid Electric Vehicle (PHEV)': 'blue',\n                                 'Battery Electric Vehicle (BEV)': 'green'})\n\n# Show the plot\nfig.show()\n",
        "outputsMetadata": {
          "0": {
            "height": 17,
            "type": "plotly"
          }
        },
        "id": "3d09c630-472c-49d5-8986-0ce986439b96"
      },
      "cell_type": "code",
      "id": "3d09c630-472c-49d5-8986-0ce986439b96",
      "execution_count": null,
      "outputs": []
    },
    {
      "source": [
        "## Summary\n",
        "\n",
        "You've now seen how to access GPT through the OpenAI API both directly and using LangChain.\n",
        "\n",
        "You saw how GPT can be used to come up with ideas for analyses to perform and to write code for you.\n",
        "\n",
        "You also saw how to have an extended conversation and how to control the reproducibility of the responses."
      ],
      "metadata": {
        "id": "ba61448d-2571-4ffa-ac93-47d0eba4c94e"
      },
      "cell_type": "markdown",
      "id": "ba61448d-2571-4ffa-ac93-47d0eba4c94e"
    }
  ],
  "metadata": {
    "colab": {
      "provenance": []
    },
    "kernelspec": {
      "display_name": "Python 3",
      "name": "python3"
    },
    "language_info": {
      "codemirror_mode": {
        "name": "ipython",
        "version": 3
      },
      "file_extension": ".py",
      "mimetype": "text/x-python",
      "name": "python",
      "nbconvert_exporter": "python",
      "pygments_lexer": "ipython3",
      "version": "3.8.10"
    }
  },
  "nbformat": 4,
  "nbformat_minor": 5
}