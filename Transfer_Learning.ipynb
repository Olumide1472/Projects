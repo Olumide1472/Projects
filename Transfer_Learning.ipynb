{
  "nbformat": 4,
  "nbformat_minor": 0,
  "metadata": {
    "colab": {
      "provenance": [],
      "gpuType": "T4",
      "authorship_tag": "ABX9TyO9ecKtm/keOD/1GlajfHYs",
      "include_colab_link": true
    },
    "kernelspec": {
      "name": "python3",
      "display_name": "Python 3"
    },
    "language_info": {
      "name": "python"
    },
    "accelerator": "GPU"
  },
  "cells": [
    {
      "cell_type": "markdown",
      "metadata": {
        "id": "view-in-github",
        "colab_type": "text"
      },
      "source": [
        "<a href=\"https://colab.research.google.com/github/Olumide1472/Projects/blob/main/Transfer_Learning.ipynb\" target=\"_parent\"><img src=\"https://colab.research.google.com/assets/colab-badge.svg\" alt=\"Open In Colab\"/></a>"
      ]
    },
    {
      "cell_type": "markdown",
      "source": [
        "\n",
        "# **AlexNet**\n",
        "\n",
        "The AlexNet model is a landmark in image recognition technology, employing convolutional neural networks (CNNs) to set new standards in the ImageNet competition in 2012. AlexNet stand out in the following ways:\n",
        "\n",
        "**Deep Structure:** It has five convolutional layers for pattern recognition, followed by three fully connected layers, allowing it to learn complex features in images.\n",
        "\n",
        "\n",
        "**ReLU Activation:** Utilizes the Rectified Linear Unit (ReLU) technique for faster and more effective learning, overcoming the limitations of previous methods.\n",
        "\n",
        "\n",
        "**Overlapping Pooling:** This approach captures the essential features more efficiently by allowing the pooling regions to overlap, helping reduce network size and prevent overfitting.\n",
        "\n",
        "\n",
        "**Dropout Technique:** Randomly ignores parts of the network during training to prevent overfitting and ensure the model generalizes well to new data.\n",
        "\n",
        "\n",
        "**GPU Training:** Uses two NVIDIA GTX 580 graphics cards for faster processing, enabling it to manage a larger and more complex network efficiently.\n",
        "\n",
        "\n",
        "**Impact:** AlexNet’s success highlighted the effectiveness of deep CNNs in image classification, inspiring further research and advancements in the field.\n",
        "\n",
        "\n",
        "**Training Innovations:** Besides its architecture, AlexNet introduced faster training with ReLU, dropout for robustness, and GPU acceleration. It also used data augmentation methods to enhance the model’s ability to generalize from training data to new, unseen data.\n",
        "\n",
        "\n",
        "\n",
        "\n",
        "\n",
        "\n",
        "\n",
        "\n",
        "\n",
        "**Reference:**\n",
        "*A. Krizhevsky, I. Sutskever, and G. E. Hinton, “ImageNet Classification with Deep Convolutional Neural Networks,” Communications of the ACM, vol. 60, no. 6, pp. 84–90, May 2012, doi: https://doi.org/10.1145/3065386.*\n"
      ],
      "metadata": {
        "id": "_gBEoVhh_CXj"
      }
    },
    {
      "cell_type": "markdown",
      "source": [
        "# **Importing Data Set from Kaggle**"
      ],
      "metadata": {
        "id": "ieJ80gEJG-lc"
      }
    },
    {
      "cell_type": "code",
      "source": [
        "from google.colab import files\n",
        "files.upload()"
      ],
      "metadata": {
        "id": "5dkOVZO1_pty",
        "colab": {
          "base_uri": "https://localhost:8080/",
          "height": 90
        },
        "outputId": "4250475e-ed7f-4fd5-d45c-c6fc3661c0e0"
      },
      "execution_count": null,
      "outputs": [
        {
          "output_type": "display_data",
          "data": {
            "text/plain": [
              "<IPython.core.display.HTML object>"
            ],
            "text/html": [
              "\n",
              "     <input type=\"file\" id=\"files-8941112b-7f02-405a-a4ad-5d3359d65c06\" name=\"files[]\" multiple disabled\n",
              "        style=\"border:none\" />\n",
              "     <output id=\"result-8941112b-7f02-405a-a4ad-5d3359d65c06\">\n",
              "      Upload widget is only available when the cell has been executed in the\n",
              "      current browser session. Please rerun this cell to enable.\n",
              "      </output>\n",
              "      <script>// Copyright 2017 Google LLC\n",
              "//\n",
              "// Licensed under the Apache License, Version 2.0 (the \"License\");\n",
              "// you may not use this file except in compliance with the License.\n",
              "// You may obtain a copy of the License at\n",
              "//\n",
              "//      http://www.apache.org/licenses/LICENSE-2.0\n",
              "//\n",
              "// Unless required by applicable law or agreed to in writing, software\n",
              "// distributed under the License is distributed on an \"AS IS\" BASIS,\n",
              "// WITHOUT WARRANTIES OR CONDITIONS OF ANY KIND, either express or implied.\n",
              "// See the License for the specific language governing permissions and\n",
              "// limitations under the License.\n",
              "\n",
              "/**\n",
              " * @fileoverview Helpers for google.colab Python module.\n",
              " */\n",
              "(function(scope) {\n",
              "function span(text, styleAttributes = {}) {\n",
              "  const element = document.createElement('span');\n",
              "  element.textContent = text;\n",
              "  for (const key of Object.keys(styleAttributes)) {\n",
              "    element.style[key] = styleAttributes[key];\n",
              "  }\n",
              "  return element;\n",
              "}\n",
              "\n",
              "// Max number of bytes which will be uploaded at a time.\n",
              "const MAX_PAYLOAD_SIZE = 100 * 1024;\n",
              "\n",
              "function _uploadFiles(inputId, outputId) {\n",
              "  const steps = uploadFilesStep(inputId, outputId);\n",
              "  const outputElement = document.getElementById(outputId);\n",
              "  // Cache steps on the outputElement to make it available for the next call\n",
              "  // to uploadFilesContinue from Python.\n",
              "  outputElement.steps = steps;\n",
              "\n",
              "  return _uploadFilesContinue(outputId);\n",
              "}\n",
              "\n",
              "// This is roughly an async generator (not supported in the browser yet),\n",
              "// where there are multiple asynchronous steps and the Python side is going\n",
              "// to poll for completion of each step.\n",
              "// This uses a Promise to block the python side on completion of each step,\n",
              "// then passes the result of the previous step as the input to the next step.\n",
              "function _uploadFilesContinue(outputId) {\n",
              "  const outputElement = document.getElementById(outputId);\n",
              "  const steps = outputElement.steps;\n",
              "\n",
              "  const next = steps.next(outputElement.lastPromiseValue);\n",
              "  return Promise.resolve(next.value.promise).then((value) => {\n",
              "    // Cache the last promise value to make it available to the next\n",
              "    // step of the generator.\n",
              "    outputElement.lastPromiseValue = value;\n",
              "    return next.value.response;\n",
              "  });\n",
              "}\n",
              "\n",
              "/**\n",
              " * Generator function which is called between each async step of the upload\n",
              " * process.\n",
              " * @param {string} inputId Element ID of the input file picker element.\n",
              " * @param {string} outputId Element ID of the output display.\n",
              " * @return {!Iterable<!Object>} Iterable of next steps.\n",
              " */\n",
              "function* uploadFilesStep(inputId, outputId) {\n",
              "  const inputElement = document.getElementById(inputId);\n",
              "  inputElement.disabled = false;\n",
              "\n",
              "  const outputElement = document.getElementById(outputId);\n",
              "  outputElement.innerHTML = '';\n",
              "\n",
              "  const pickedPromise = new Promise((resolve) => {\n",
              "    inputElement.addEventListener('change', (e) => {\n",
              "      resolve(e.target.files);\n",
              "    });\n",
              "  });\n",
              "\n",
              "  const cancel = document.createElement('button');\n",
              "  inputElement.parentElement.appendChild(cancel);\n",
              "  cancel.textContent = 'Cancel upload';\n",
              "  const cancelPromise = new Promise((resolve) => {\n",
              "    cancel.onclick = () => {\n",
              "      resolve(null);\n",
              "    };\n",
              "  });\n",
              "\n",
              "  // Wait for the user to pick the files.\n",
              "  const files = yield {\n",
              "    promise: Promise.race([pickedPromise, cancelPromise]),\n",
              "    response: {\n",
              "      action: 'starting',\n",
              "    }\n",
              "  };\n",
              "\n",
              "  cancel.remove();\n",
              "\n",
              "  // Disable the input element since further picks are not allowed.\n",
              "  inputElement.disabled = true;\n",
              "\n",
              "  if (!files) {\n",
              "    return {\n",
              "      response: {\n",
              "        action: 'complete',\n",
              "      }\n",
              "    };\n",
              "  }\n",
              "\n",
              "  for (const file of files) {\n",
              "    const li = document.createElement('li');\n",
              "    li.append(span(file.name, {fontWeight: 'bold'}));\n",
              "    li.append(span(\n",
              "        `(${file.type || 'n/a'}) - ${file.size} bytes, ` +\n",
              "        `last modified: ${\n",
              "            file.lastModifiedDate ? file.lastModifiedDate.toLocaleDateString() :\n",
              "                                    'n/a'} - `));\n",
              "    const percent = span('0% done');\n",
              "    li.appendChild(percent);\n",
              "\n",
              "    outputElement.appendChild(li);\n",
              "\n",
              "    const fileDataPromise = new Promise((resolve) => {\n",
              "      const reader = new FileReader();\n",
              "      reader.onload = (e) => {\n",
              "        resolve(e.target.result);\n",
              "      };\n",
              "      reader.readAsArrayBuffer(file);\n",
              "    });\n",
              "    // Wait for the data to be ready.\n",
              "    let fileData = yield {\n",
              "      promise: fileDataPromise,\n",
              "      response: {\n",
              "        action: 'continue',\n",
              "      }\n",
              "    };\n",
              "\n",
              "    // Use a chunked sending to avoid message size limits. See b/62115660.\n",
              "    let position = 0;\n",
              "    do {\n",
              "      const length = Math.min(fileData.byteLength - position, MAX_PAYLOAD_SIZE);\n",
              "      const chunk = new Uint8Array(fileData, position, length);\n",
              "      position += length;\n",
              "\n",
              "      const base64 = btoa(String.fromCharCode.apply(null, chunk));\n",
              "      yield {\n",
              "        response: {\n",
              "          action: 'append',\n",
              "          file: file.name,\n",
              "          data: base64,\n",
              "        },\n",
              "      };\n",
              "\n",
              "      let percentDone = fileData.byteLength === 0 ?\n",
              "          100 :\n",
              "          Math.round((position / fileData.byteLength) * 100);\n",
              "      percent.textContent = `${percentDone}% done`;\n",
              "\n",
              "    } while (position < fileData.byteLength);\n",
              "  }\n",
              "\n",
              "  // All done.\n",
              "  yield {\n",
              "    response: {\n",
              "      action: 'complete',\n",
              "    }\n",
              "  };\n",
              "}\n",
              "\n",
              "scope.google = scope.google || {};\n",
              "scope.google.colab = scope.google.colab || {};\n",
              "scope.google.colab._files = {\n",
              "  _uploadFiles,\n",
              "  _uploadFilesContinue,\n",
              "};\n",
              "})(self);\n",
              "</script> "
            ]
          },
          "metadata": {}
        },
        {
          "output_type": "stream",
          "name": "stdout",
          "text": [
            "Saving kaggle.json to kaggle.json\n"
          ]
        },
        {
          "output_type": "execute_result",
          "data": {
            "text/plain": [
              "{'kaggle.json': b'{\"username\":\"kooshy007\",\"key\":\"f676dd80b0760232f5e915139e7716dc\"}'}"
            ]
          },
          "metadata": {},
          "execution_count": 3
        }
      ]
    },
    {
      "cell_type": "code",
      "source": [
        "!mkdir -p ~/.kaggle\n",
        "!cp kaggle.json ~/.kaggle/"
      ],
      "metadata": {
        "id": "sGKsohaZYOpn"
      },
      "execution_count": null,
      "outputs": []
    },
    {
      "cell_type": "code",
      "source": [
        "!chmod 600 ~/.kaggle/kaggle.json"
      ],
      "metadata": {
        "id": "dr3C2bkFYRX2"
      },
      "execution_count": null,
      "outputs": []
    },
    {
      "cell_type": "code",
      "source": [
        "!kaggle datasets download -d ashishsaxena2209/animal-image-datasetdog-cat-and-panda"
      ],
      "metadata": {
        "colab": {
          "base_uri": "https://localhost:8080/"
        },
        "id": "B2buz_qhYZHL",
        "outputId": "bcb559c8-a193-4b59-928f-d5a56d9088de"
      },
      "execution_count": null,
      "outputs": [
        {
          "output_type": "stream",
          "name": "stdout",
          "text": [
            "Downloading animal-image-datasetdog-cat-and-panda.zip to /content\n",
            " 99% 372M/376M [00:03<00:00, 124MB/s]\n",
            "100% 376M/376M [00:03<00:00, 111MB/s]\n"
          ]
        }
      ]
    },
    {
      "cell_type": "code",
      "source": [
        "!unzip animal-image-datasetdog-cat-and-panda.zip -d dataset"
      ],
      "metadata": {
        "id": "70uUYuMVYav3"
      },
      "execution_count": null,
      "outputs": []
    },
    {
      "cell_type": "markdown",
      "source": [
        "# **Importing Libraries**"
      ],
      "metadata": {
        "id": "kXRMpu7qFnGi"
      }
    },
    {
      "cell_type": "code",
      "source": [
        "import os\n",
        "import numpy as np\n",
        "import tensorflow as tf\n",
        "import tensorflow_hub as hub\n",
        "import matplotlib.pyplot as plt\n",
        "from tensorflow.keras.applications import MobileNetV2\n",
        "from tensorflow.keras.preprocessing.image import ImageDataGenerator\n",
        "from tensorflow.keras.models import Model\n",
        "from tensorflow.keras.layers import Dense, GlobalAveragePooling2D\n",
        "from sklearn.model_selection import train_test_split\n",
        "from tensorflow.keras.preprocessing import image_dataset_from_directory"
      ],
      "metadata": {
        "id": "OvjfK6PVhCAY"
      },
      "execution_count": null,
      "outputs": []
    },
    {
      "cell_type": "markdown",
      "source": [
        "\n",
        "\n",
        "\n",
        "# **Model Architecture**\n",
        "\n"
      ],
      "metadata": {
        "id": "_LDkxJKUFuJi"
      }
    },
    {
      "cell_type": "code",
      "source": [
        "# Define your labels here\n",
        "labels = ['cats', 'dogs', 'panda']\n",
        "\n",
        "# Path to your dataset\n",
        "dataset_path = '/content/dataset/animal'\n",
        "# Corrected: Use dataset_path for image_folder\n",
        "image_folder = dataset_path\n",
        "image_paths = [os.path.join(image_folder, img) for img in os.listdir(image_folder) if img.endswith(('.png', '.jpg', '.jpeg', '.JPG'))]\n",
        "\n",
        "# Initialize the ImageDataGenerator class and specify the test/train split\n",
        "datagen = ImageDataGenerator(\n",
        "    rescale=1./255,  # Normalize pixel values\n",
        "    rotation_range=20,  # Augmentation: rotate images\n",
        "    width_shift_range=0.2,  # Augmentation: horizontal shift\n",
        "    height_shift_range=0.2,  # Augmentation: vertical shift\n",
        "    horizontal_flip=True,  # Augmentation: flip images horizontally\n",
        "    validation_split=0.2  # 80/20 split for training/testing\n",
        ")\n",
        "\n",
        "# Prepare data generators for training and validation\n",
        "train_generator = datagen.flow_from_directory(\n",
        "    dataset_path,\n",
        "    target_size=(224, 224),  # Resize images to match model's expected input\n",
        "    batch_size=32,\n",
        "    class_mode='categorical',\n",
        "    subset='training'  # Specify as training data\n",
        ")\n",
        "\n",
        "validation_generator = datagen.flow_from_directory(\n",
        "    dataset_path,\n",
        "    target_size=(224, 224),\n",
        "    batch_size=32,\n",
        "    class_mode='categorical',\n",
        "    subset='validation'  # Set as validation data\n",
        ")"
      ],
      "metadata": {
        "colab": {
          "base_uri": "https://localhost:8080/"
        },
        "id": "pyvaiN8yuCgr",
        "outputId": "f5f679af-9584-4e42-cff5-dec582af6255"
      },
      "execution_count": null,
      "outputs": [
        {
          "output_type": "stream",
          "name": "stdout",
          "text": [
            "Found 2400 images belonging to 3 classes.\n",
            "Found 600 images belonging to 3 classes.\n"
          ]
        }
      ]
    },
    {
      "cell_type": "markdown",
      "source": [
        "# **Implementing the Kaggle Model Backbone**"
      ],
      "metadata": {
        "id": "6_L_KUSDGI5A"
      }
    },
    {
      "cell_type": "code",
      "source": [
        "# Number of classes\n",
        "num_classes = train_generator.num_classes\n",
        "\n",
        "# Create the model using TensorFlow Hub's KerasLayer for MobileNetV2\n",
        "m = tf.keras.Sequential([\n",
        "    hub.KerasLayer(\"https://tfhub.dev/google/tf2-preview/mobilenet_v2/feature_vector/4\", output_shape=[1280],\n",
        "                   trainable=False),  # Model from TF Hub, set as non-trainable\n",
        "    tf.keras.layers.Dense(num_classes, activation='softmax')\n",
        "])\n",
        "\n",
        "m.build([None, 224, 224, 3])  # Batch input shape.\n",
        "\n",
        "# Compile the model\n",
        "m.compile(optimizer=tf.keras.optimizers.Adam(learning_rate=0.0001),\n",
        "          loss='categorical_crossentropy',\n",
        "          metrics=['accuracy'])\n"
      ],
      "metadata": {
        "id": "3B8UYPuSw46x"
      },
      "execution_count": null,
      "outputs": []
    },
    {
      "cell_type": "markdown",
      "source": [
        "# **Training and Fine-Tuning and Model Evaluation**"
      ],
      "metadata": {
        "id": "bCJ6H35eGnZk"
      }
    },
    {
      "cell_type": "code",
      "source": [
        "# Train and fine-tune the model\n",
        "history = m.fit(\n",
        "    train_generator,\n",
        "    epochs=10,  # Adjust number of epochs\n",
        "    validation_data=validation_generator\n",
        ")\n"
      ],
      "metadata": {
        "colab": {
          "base_uri": "https://localhost:8080/"
        },
        "id": "1Z9D-Gs0xAzt",
        "outputId": "eb13ab1f-3cf3-44a1-9814-d86ffe4bc1a4"
      },
      "execution_count": null,
      "outputs": [
        {
          "output_type": "stream",
          "name": "stdout",
          "text": [
            "Epoch 1/10\n",
            "75/75 [==============================] - 166s 2s/step - loss: 0.7959 - accuracy: 0.6829 - val_loss: 0.5399 - val_accuracy: 0.8150\n",
            "Epoch 2/10\n",
            "75/75 [==============================] - 158s 2s/step - loss: 0.3817 - accuracy: 0.9025 - val_loss: 0.3070 - val_accuracy: 0.9317\n",
            "Epoch 3/10\n",
            "75/75 [==============================] - 146s 2s/step - loss: 0.2422 - accuracy: 0.9521 - val_loss: 0.2316 - val_accuracy: 0.9367\n",
            "Epoch 4/10\n",
            "75/75 [==============================] - 170s 2s/step - loss: 0.1879 - accuracy: 0.9596 - val_loss: 0.1808 - val_accuracy: 0.9550\n",
            "Epoch 5/10\n",
            "75/75 [==============================] - 148s 2s/step - loss: 0.1491 - accuracy: 0.9650 - val_loss: 0.1539 - val_accuracy: 0.9617\n",
            "Epoch 6/10\n",
            "75/75 [==============================] - 159s 2s/step - loss: 0.1295 - accuracy: 0.9671 - val_loss: 0.1413 - val_accuracy: 0.9617\n",
            "Epoch 7/10\n",
            "75/75 [==============================] - 157s 2s/step - loss: 0.1153 - accuracy: 0.9742 - val_loss: 0.1169 - val_accuracy: 0.9783\n",
            "Epoch 8/10\n",
            "75/75 [==============================] - 161s 2s/step - loss: 0.0998 - accuracy: 0.9754 - val_loss: 0.1134 - val_accuracy: 0.9750\n",
            "Epoch 9/10\n",
            "75/75 [==============================] - 148s 2s/step - loss: 0.0971 - accuracy: 0.9742 - val_loss: 0.1080 - val_accuracy: 0.9667\n",
            "Epoch 10/10\n",
            "75/75 [==============================] - 149s 2s/step - loss: 0.0877 - accuracy: 0.9783 - val_loss: 0.0940 - val_accuracy: 0.9783\n"
          ]
        }
      ]
    },
    {
      "cell_type": "code",
      "source": [
        "# Evaluate the model on the test data\n",
        "results = m.evaluate(validation_generator, batch_size=32)\n",
        "print(\"Test loss, test acc:\", results)\n"
      ],
      "metadata": {
        "colab": {
          "base_uri": "https://localhost:8080/"
        },
        "id": "EgJpfuNkxEWj",
        "outputId": "09f6ff39-5f64-4384-e4a0-275c31ecbdda"
      },
      "execution_count": null,
      "outputs": [
        {
          "output_type": "stream",
          "name": "stdout",
          "text": [
            "19/19 [==============================] - 41s 2s/step - loss: 0.1018 - accuracy: 0.9700\n",
            "Test loss, test acc: [0.10180948674678802, 0.9700000286102295]\n"
          ]
        }
      ]
    },
    {
      "cell_type": "markdown",
      "source": [
        "# **Plotting Training And Validation Accuracy and Loss**"
      ],
      "metadata": {
        "id": "w4m8HZFMG0gz"
      }
    },
    {
      "cell_type": "code",
      "source": [
        "# Plot training and validation accuracy and loss\n",
        "plt.figure(figsize=(8, 8))\n",
        "plt.subplot(1, 2, 1)\n",
        "plt.plot(history.history['accuracy'], label='Training Accuracy')\n",
        "plt.plot(history.history['val_accuracy'], label='Validation Accuracy')\n",
        "plt.legend(loc='lower right')\n",
        "plt.title('Training and Validation Accuracy')\n",
        "\n",
        "plt.subplot(1, 2, 2)\n",
        "plt.plot(history.history['loss'], label='Training Loss')\n",
        "plt.plot(history.history['val_loss'], label='Validation Loss')\n",
        "plt.legend(loc='upper right')\n",
        "plt.title('Training and Validation Loss')\n",
        "plt.show()"
      ],
      "metadata": {
        "colab": {
          "base_uri": "https://localhost:8080/",
          "height": 699
        },
        "id": "hSUkdChglwam",
        "outputId": "a0cd1276-be7f-4fd6-ee50-d60852b0f3fa"
      },
      "execution_count": null,
      "outputs": [
        {
          "output_type": "display_data",
          "data": {
            "text/plain": [
              "<Figure size 800x800 with 2 Axes>"
            ],
            "image/png": "[encoded data removed]"
          },
          "metadata": {}
        }
      ]
    },
    {
      "cell_type": "markdown",
      "source": [
        "# **Summary and Findings**\n",
        "\n",
        "**Findings**\n",
        "\n",
        "it appears there are no significant signs of overfitting or underfitting. The accuracy chart shows the training and test accuracies are both high and close together, while the loss chart indicates both training and test losses decrease and stabilize at a low level. This suggests the model generalizes well.\n",
        "\n"
      ],
      "metadata": {
        "id": "FU-4fNF5HLTe"
      }
    }
  ]
}